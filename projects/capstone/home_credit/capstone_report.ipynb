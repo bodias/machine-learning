{
 "cells": [
  {
   "cell_type": "code",
   "execution_count": 1,
   "metadata": {},
   "outputs": [
    {
     "name": "stderr",
     "output_type": "stream",
     "text": [
      "C:\\ProgramData\\Anaconda2\\lib\\site-packages\\sklearn\\cross_validation.py:41: DeprecationWarning: This module was deprecated in version 0.18 in favor of the model_selection module into which all the refactored classes and functions are moved. Also note that the interface of the new CV iterators are different from that of this module. This module will be removed in 0.20.\n",
      "  \"This module will be removed in 0.20.\", DeprecationWarning)\n",
      "C:\\ProgramData\\Anaconda2\\lib\\site-packages\\sklearn\\grid_search.py:42: DeprecationWarning: This module was deprecated in version 0.18 in favor of the model_selection module into which all the refactored classes and functions are moved. This module will be removed in 0.20.\n",
      "  DeprecationWarning)\n"
     ]
    }
   ],
   "source": [
    "import numpy as np\n",
    "import pandas as pd\n",
    "import matplotlib.pyplot as plt\n",
    "import time\n",
    "from sklearn.preprocessing import OneHotEncoder,LabelEncoder\n",
    "from xgboost import XGBClassifier\n",
    "from sklearn.grid_search import GridSearchCV\n",
    "from sklearn.ensemble import RandomForestClassifier\n",
    "from sklearn.model_selection import train_test_split\n",
    "from sklearn.metrics import accuracy_score, roc_auc_score, auc, roc_curve\n",
    "from sklearn.model_selection import KFold,StratifiedKFold,cross_val_score"
   ]
  },
  {
   "cell_type": "markdown",
   "metadata": {},
   "source": [
    "A few tweaks on CSS to make tables look better..."
   ]
  },
  {
   "cell_type": "code",
   "execution_count": 2,
   "metadata": {},
   "outputs": [],
   "source": [
    "CSS = \"\"\"\n",
    "body {\n",
    "    margin: 0;\n",
    "    font-family: Helvetica;\n",
    "}\n",
    "table.dataframe {\n",
    "    border-collapse: collapse;\n",
    "    border: none;\n",
    "}\n",
    "table.dataframe tr {\n",
    "    border: none;\n",
    "}\n",
    "table.dataframe td, table.dataframe th {\n",
    "    margin: 0;\n",
    "    border: 1px solid white;\n",
    "    padding-left: 0.25em;\n",
    "    padding-right: 0.25em;\n",
    "}\n",
    "table.dataframe th:not(:empty) {\n",
    "    background-color: #fec;\n",
    "    text-align: left;\n",
    "    font-weight: normal;\n",
    "}\n",
    "table.dataframe tr:nth-child(2) th:empty {\n",
    "    border-left: none;\n",
    "    border-right: 1px dashed #888;\n",
    "}\n",
    "table.dataframe td {\n",
    "    border: 2px solid #ccf;\n",
    "    background-color: #f4f4ff;\n",
    "}\n",
    "\"\"\""
   ]
  },
  {
   "cell_type": "code",
   "execution_count": 3,
   "metadata": {},
   "outputs": [
    {
     "data": {
      "text/html": [
       "<style>\n",
       "body {\n",
       "    margin: 0;\n",
       "    font-family: Helvetica;\n",
       "}\n",
       "table.dataframe {\n",
       "    border-collapse: collapse;\n",
       "    border: none;\n",
       "}\n",
       "table.dataframe tr {\n",
       "    border: none;\n",
       "}\n",
       "table.dataframe td, table.dataframe th {\n",
       "    margin: 0;\n",
       "    border: 1px solid white;\n",
       "    padding-left: 0.25em;\n",
       "    padding-right: 0.25em;\n",
       "}\n",
       "table.dataframe th:not(:empty) {\n",
       "    background-color: #fec;\n",
       "    text-align: left;\n",
       "    font-weight: normal;\n",
       "}\n",
       "table.dataframe tr:nth-child(2) th:empty {\n",
       "    border-left: none;\n",
       "    border-right: 1px dashed #888;\n",
       "}\n",
       "table.dataframe td {\n",
       "    border: 2px solid #ccf;\n",
       "    background-color: #f4f4ff;\n",
       "}\n",
       "</style>"
      ],
      "text/plain": [
       "<IPython.core.display.HTML object>"
      ]
     },
     "execution_count": 3,
     "metadata": {},
     "output_type": "execute_result"
    }
   ],
   "source": [
    "## Magics and commom settings\n",
    "pd.set_option('display.float_format', lambda x: '%.4f' % x)\n",
    "%matplotlib inline\n",
    "\n",
    "pd.set_option(\"display.max_columns\",7)\n",
    "\n",
    "from IPython.core.display import HTML\n",
    "HTML('<style>{}</style>'.format(CSS))"
   ]
  },
  {
   "cell_type": "markdown",
   "metadata": {},
   "source": [
    "## Reading data\n",
    "\n",
    "The data provided by Kaggle is comprised of 8 CSV files, with a main train/test file with reference to all the other files through the SK_xxx columns. The file *\"HomeCredit_columns_description.csv\"* contains information about each column in each file."
   ]
  },
  {
   "cell_type": "code",
   "execution_count": 4,
   "metadata": {},
   "outputs": [
    {
     "name": "stdout",
     "output_type": "stream",
     "text": [
      " O volume na unidade C não tem nome.\n",
      " O Número de Série do Volume é D8D6-4768\n",
      "\n",
      " Pasta de C:\\Users\\braian.dias\\datascience\\machine-learning\\projects\\capstone\\home_credit\\data\n",
      "\n",
      "28/08/2018  15:10    <DIR>          .\n",
      "28/08/2018  15:10    <DIR>          ..\n",
      "13/08/2018  17:06        26.567.651 application_test.csv\n",
      "13/08/2018  17:06       166.133.370 application_train.csv\n",
      "13/08/2018  17:06       170.016.717 bureau.csv\n",
      "13/08/2018  17:06       375.592.889 bureau_balance.csv\n",
      "13/08/2018  17:06       424.582.605 credit_card_balance.csv\n",
      "28/08/2018  15:10           172.475 exploratory_analysis.twb\n",
      "13/08/2018  17:06            37.383 HomeCredit_columns_description.csv\n",
      "13/08/2018  17:05       723.118.349 installments_payments.csv\n",
      "13/08/2018  17:06       392.703.158 POS_CASH_balance.csv\n",
      "13/08/2018  17:06       404.973.293 previous_application.csv\n",
      "13/08/2018  17:06           536.202 sample_submission.csv\n",
      "              11 arquivo(s)  2.684.434.092 bytes\n",
      "               2 pasta(s)   177.083.310.080 bytes disponíveis\n"
     ]
    }
   ],
   "source": [
    "!dir data"
   ]
  },
  {
   "cell_type": "code",
   "execution_count": 5,
   "metadata": {},
   "outputs": [],
   "source": [
    "# READ all .csv files\n",
    "app_test = pd.read_csv(\"data/application_test.csv\")\n",
    "app_train = pd.read_csv(\"data/application_train.csv\")\n",
    "bureau = pd.read_csv(\"data/bureau.csv\")\n",
    "bureau_balance = pd.read_csv(\"data/bureau_balance.csv\")\n",
    "previous_application = pd.read_csv(\"data/previous_application.csv\")\n",
    "POS_CASH_balance = pd.read_csv(\"data/POS_CASH_balance.csv\")\n",
    "credit_card_balance = pd.read_csv(\"data/credit_card_balance.csv\")\n",
    "installments_payments = pd.read_csv(\"data/installments_payments.csv\")"
   ]
  },
  {
   "cell_type": "code",
   "execution_count": 6,
   "metadata": {},
   "outputs": [
    {
     "ename": "NameError",
     "evalue": "name 'bureau' is not defined",
     "output_type": "error",
     "traceback": [
      "\u001b[0;31m---------------------------------------------------------------------------\u001b[0m",
      "\u001b[0;31mNameError\u001b[0m                                 Traceback (most recent call last)",
      "\u001b[0;32m<ipython-input-6-46bc65c34efd>\u001b[0m in \u001b[0;36m<module>\u001b[0;34m()\u001b[0m\n\u001b[1;32m      4\u001b[0m \u001b[0mfile_stats\u001b[0m \u001b[0;34m=\u001b[0m \u001b[0mpd\u001b[0m\u001b[0;34m.\u001b[0m\u001b[0mconcat\u001b[0m\u001b[0;34m(\u001b[0m\u001b[0;34m[\u001b[0m\u001b[0mfile_stats\u001b[0m\u001b[0;34m,\u001b[0m\u001b[0mpd\u001b[0m\u001b[0;34m.\u001b[0m\u001b[0mDataFrame\u001b[0m\u001b[0;34m(\u001b[0m\u001b[0mnp\u001b[0m\u001b[0;34m.\u001b[0m\u001b[0marray\u001b[0m\u001b[0;34m(\u001b[0m\u001b[0;34m[\u001b[0m\u001b[0;34m[\u001b[0m\u001b[0;34m\"application_train.csv\"\u001b[0m\u001b[0;34m,\u001b[0m\u001b[0mapp_train\u001b[0m\u001b[0;34m.\u001b[0m\u001b[0mshape\u001b[0m\u001b[0;34m[\u001b[0m\u001b[0;36m1\u001b[0m\u001b[0;34m]\u001b[0m\u001b[0;34m,\u001b[0m\u001b[0mapp_train\u001b[0m\u001b[0;34m.\u001b[0m\u001b[0mshape\u001b[0m\u001b[0;34m[\u001b[0m\u001b[0;36m0\u001b[0m\u001b[0;34m]\u001b[0m\u001b[0;34m]\u001b[0m\u001b[0;34m]\u001b[0m\u001b[0;34m)\u001b[0m\u001b[0;34m,\u001b[0m\u001b[0mcolumns\u001b[0m\u001b[0;34m=\u001b[0m\u001b[0mcols\u001b[0m\u001b[0;34m)\u001b[0m\u001b[0;34m]\u001b[0m\u001b[0;34m)\u001b[0m\u001b[0;34m\u001b[0m\u001b[0m\n\u001b[1;32m      5\u001b[0m \u001b[0mfile_stats\u001b[0m \u001b[0;34m=\u001b[0m \u001b[0mpd\u001b[0m\u001b[0;34m.\u001b[0m\u001b[0mconcat\u001b[0m\u001b[0;34m(\u001b[0m\u001b[0;34m[\u001b[0m\u001b[0mfile_stats\u001b[0m\u001b[0;34m,\u001b[0m\u001b[0mpd\u001b[0m\u001b[0;34m.\u001b[0m\u001b[0mDataFrame\u001b[0m\u001b[0;34m(\u001b[0m\u001b[0mnp\u001b[0m\u001b[0;34m.\u001b[0m\u001b[0marray\u001b[0m\u001b[0;34m(\u001b[0m\u001b[0;34m[\u001b[0m\u001b[0;34m[\u001b[0m\u001b[0;34m\"application_test.csv\"\u001b[0m\u001b[0;34m,\u001b[0m\u001b[0mapp_test\u001b[0m\u001b[0;34m.\u001b[0m\u001b[0mshape\u001b[0m\u001b[0;34m[\u001b[0m\u001b[0;36m1\u001b[0m\u001b[0;34m]\u001b[0m\u001b[0;34m,\u001b[0m\u001b[0mapp_test\u001b[0m\u001b[0;34m.\u001b[0m\u001b[0mshape\u001b[0m\u001b[0;34m[\u001b[0m\u001b[0;36m0\u001b[0m\u001b[0;34m]\u001b[0m\u001b[0;34m]\u001b[0m\u001b[0;34m]\u001b[0m\u001b[0;34m)\u001b[0m\u001b[0;34m,\u001b[0m\u001b[0mcolumns\u001b[0m\u001b[0;34m=\u001b[0m\u001b[0mcols\u001b[0m\u001b[0;34m)\u001b[0m\u001b[0;34m]\u001b[0m\u001b[0;34m)\u001b[0m\u001b[0;34m\u001b[0m\u001b[0m\n\u001b[0;32m----> 6\u001b[0;31m \u001b[0mfile_stats\u001b[0m \u001b[0;34m=\u001b[0m \u001b[0mpd\u001b[0m\u001b[0;34m.\u001b[0m\u001b[0mconcat\u001b[0m\u001b[0;34m(\u001b[0m\u001b[0;34m[\u001b[0m\u001b[0mfile_stats\u001b[0m\u001b[0;34m,\u001b[0m\u001b[0mpd\u001b[0m\u001b[0;34m.\u001b[0m\u001b[0mDataFrame\u001b[0m\u001b[0;34m(\u001b[0m\u001b[0mnp\u001b[0m\u001b[0;34m.\u001b[0m\u001b[0marray\u001b[0m\u001b[0;34m(\u001b[0m\u001b[0;34m[\u001b[0m\u001b[0;34m[\u001b[0m\u001b[0;34m\"bureau.csv\"\u001b[0m\u001b[0;34m,\u001b[0m\u001b[0mbureau\u001b[0m\u001b[0;34m.\u001b[0m\u001b[0mshape\u001b[0m\u001b[0;34m[\u001b[0m\u001b[0;36m1\u001b[0m\u001b[0;34m]\u001b[0m\u001b[0;34m,\u001b[0m\u001b[0mbureau\u001b[0m\u001b[0;34m.\u001b[0m\u001b[0mshape\u001b[0m\u001b[0;34m[\u001b[0m\u001b[0;36m0\u001b[0m\u001b[0;34m]\u001b[0m\u001b[0;34m]\u001b[0m\u001b[0;34m]\u001b[0m\u001b[0;34m)\u001b[0m\u001b[0;34m,\u001b[0m\u001b[0mcolumns\u001b[0m\u001b[0;34m=\u001b[0m\u001b[0mcols\u001b[0m\u001b[0;34m)\u001b[0m\u001b[0;34m]\u001b[0m\u001b[0;34m)\u001b[0m\u001b[0;34m\u001b[0m\u001b[0m\n\u001b[0m\u001b[1;32m      7\u001b[0m \u001b[0mfile_stats\u001b[0m \u001b[0;34m=\u001b[0m \u001b[0mpd\u001b[0m\u001b[0;34m.\u001b[0m\u001b[0mconcat\u001b[0m\u001b[0;34m(\u001b[0m\u001b[0;34m[\u001b[0m\u001b[0mfile_stats\u001b[0m\u001b[0;34m,\u001b[0m\u001b[0mpd\u001b[0m\u001b[0;34m.\u001b[0m\u001b[0mDataFrame\u001b[0m\u001b[0;34m(\u001b[0m\u001b[0mnp\u001b[0m\u001b[0;34m.\u001b[0m\u001b[0marray\u001b[0m\u001b[0;34m(\u001b[0m\u001b[0;34m[\u001b[0m\u001b[0;34m[\u001b[0m\u001b[0;34m\"bureau_balance.csv\"\u001b[0m\u001b[0;34m,\u001b[0m\u001b[0mbureau_balance\u001b[0m\u001b[0;34m.\u001b[0m\u001b[0mshape\u001b[0m\u001b[0;34m[\u001b[0m\u001b[0;36m1\u001b[0m\u001b[0;34m]\u001b[0m\u001b[0;34m,\u001b[0m\u001b[0mbureau_balance\u001b[0m\u001b[0;34m.\u001b[0m\u001b[0mshape\u001b[0m\u001b[0;34m[\u001b[0m\u001b[0;36m0\u001b[0m\u001b[0;34m]\u001b[0m\u001b[0;34m]\u001b[0m\u001b[0;34m]\u001b[0m\u001b[0;34m)\u001b[0m\u001b[0;34m,\u001b[0m\u001b[0mcolumns\u001b[0m\u001b[0;34m=\u001b[0m\u001b[0mcols\u001b[0m\u001b[0;34m)\u001b[0m\u001b[0;34m]\u001b[0m\u001b[0;34m)\u001b[0m\u001b[0;34m\u001b[0m\u001b[0m\n\u001b[1;32m      8\u001b[0m \u001b[0mfile_stats\u001b[0m \u001b[0;34m=\u001b[0m \u001b[0mpd\u001b[0m\u001b[0;34m.\u001b[0m\u001b[0mconcat\u001b[0m\u001b[0;34m(\u001b[0m\u001b[0;34m[\u001b[0m\u001b[0mfile_stats\u001b[0m\u001b[0;34m,\u001b[0m\u001b[0mpd\u001b[0m\u001b[0;34m.\u001b[0m\u001b[0mDataFrame\u001b[0m\u001b[0;34m(\u001b[0m\u001b[0mnp\u001b[0m\u001b[0;34m.\u001b[0m\u001b[0marray\u001b[0m\u001b[0;34m(\u001b[0m\u001b[0;34m[\u001b[0m\u001b[0;34m[\u001b[0m\u001b[0;34m\"credit_card_balance.csv\"\u001b[0m\u001b[0;34m,\u001b[0m\u001b[0mcredit_card_balance\u001b[0m\u001b[0;34m.\u001b[0m\u001b[0mshape\u001b[0m\u001b[0;34m[\u001b[0m\u001b[0;36m1\u001b[0m\u001b[0;34m]\u001b[0m\u001b[0;34m,\u001b[0m\u001b[0mcredit_card_balance\u001b[0m\u001b[0;34m.\u001b[0m\u001b[0mshape\u001b[0m\u001b[0;34m[\u001b[0m\u001b[0;36m0\u001b[0m\u001b[0;34m]\u001b[0m\u001b[0;34m]\u001b[0m\u001b[0;34m]\u001b[0m\u001b[0;34m)\u001b[0m\u001b[0;34m,\u001b[0m\u001b[0mcolumns\u001b[0m\u001b[0;34m=\u001b[0m\u001b[0mcols\u001b[0m\u001b[0;34m)\u001b[0m\u001b[0;34m]\u001b[0m\u001b[0;34m)\u001b[0m\u001b[0;34m\u001b[0m\u001b[0m\n",
      "\u001b[0;31mNameError\u001b[0m: name 'bureau' is not defined"
     ]
    }
   ],
   "source": [
    "# Create a new dataframe containing basic stats about each file\n",
    "cols = [\"file_name\",\"columns\",\"rows\"]\n",
    "file_stats = pd.DataFrame(columns = cols)\n",
    "file_stats = pd.concat([file_stats,pd.DataFrame(np.array([[\"application_train.csv\",app_train.shape[1],app_train.shape[0]]]),columns=cols)])\n",
    "file_stats = pd.concat([file_stats,pd.DataFrame(np.array([[\"application_test.csv\",app_test.shape[1],app_test.shape[0]]]),columns=cols)])\n",
    "file_stats = pd.concat([file_stats,pd.DataFrame(np.array([[\"bureau.csv\",bureau.shape[1],bureau.shape[0]]]),columns=cols)])\n",
    "file_stats = pd.concat([file_stats,pd.DataFrame(np.array([[\"bureau_balance.csv\",bureau_balance.shape[1],bureau_balance.shape[0]]]),columns=cols)])\n",
    "file_stats = pd.concat([file_stats,pd.DataFrame(np.array([[\"credit_card_balance.csv\",credit_card_balance.shape[1],credit_card_balance.shape[0]]]),columns=cols)])\n",
    "file_stats = pd.concat([file_stats,pd.DataFrame(np.array([[\"installments_payments.csv\",installments_payments.shape[1],installments_payments.shape[0]]]),columns=cols)])\n",
    "file_stats = pd.concat([file_stats,pd.DataFrame(np.array([[\"POS_CASH_balance.csv\",POS_CASH_balance.shape[1],POS_CASH_balance.shape[0]]]),columns=cols)])\n",
    "file_stats = pd.concat([file_stats,pd.DataFrame(np.array([[\"previous_application.csv\",previous_application.shape[1],previous_application.shape[0]]]),columns=cols)])\n",
    "file_stats = file_stats.reset_index(drop=True)"
   ]
  },
  {
   "cell_type": "code",
   "execution_count": null,
   "metadata": {},
   "outputs": [],
   "source": [
    "#Set dataframes to None to free memory after we have calculated the basic statistics for all files\n",
    "POS_CASH_balance = None\n",
    "credit_card_balance = None\n",
    "installments_payments = None\n",
    "previous_application = None\n",
    "bureau = None\n",
    "bureau_balance = None\n",
    "\n",
    "file_stats.to_csv(\"file_stats.csv\",index=False)"
   ]
  },
  {
   "cell_type": "markdown",
   "metadata": {},
   "source": [
    "Below is a summary of all 8 files available : 1 main file for training (with target) 1 main file for testing (without the target), and 6 other files containing additional information about each loan."
   ]
  },
  {
   "cell_type": "code",
   "execution_count": null,
   "metadata": {},
   "outputs": [],
   "source": [
    "file_stats"
   ]
  },
  {
   "cell_type": "markdown",
   "metadata": {},
   "source": [
    "The training data has 307511 observations (each one a separate loan) and 122 features (variables) including the TARGET (the label we want to predict).\n",
    "The test data folows the same structure, but it has 48744 observations and lacks the TARGET column.\n",
    "\n",
    "We can see the first 5 observations of the main training data below :"
   ]
  },
  {
   "cell_type": "code",
   "execution_count": 6,
   "metadata": {},
   "outputs": [
    {
     "data": {
      "text/html": [
       "<div>\n",
       "<style scoped>\n",
       "    .dataframe tbody tr th:only-of-type {\n",
       "        vertical-align: middle;\n",
       "    }\n",
       "\n",
       "    .dataframe tbody tr th {\n",
       "        vertical-align: top;\n",
       "    }\n",
       "\n",
       "    .dataframe thead th {\n",
       "        text-align: right;\n",
       "    }\n",
       "</style>\n",
       "<table border=\"1\" class=\"dataframe\">\n",
       "  <thead>\n",
       "    <tr style=\"text-align: right;\">\n",
       "      <th></th>\n",
       "      <th>SK_ID_CURR</th>\n",
       "      <th>TARGET</th>\n",
       "      <th>NAME_CONTRACT_TYPE</th>\n",
       "      <th>...</th>\n",
       "      <th>AMT_REQ_CREDIT_BUREAU_MON</th>\n",
       "      <th>AMT_REQ_CREDIT_BUREAU_QRT</th>\n",
       "      <th>AMT_REQ_CREDIT_BUREAU_YEAR</th>\n",
       "    </tr>\n",
       "  </thead>\n",
       "  <tbody>\n",
       "    <tr>\n",
       "      <th>0</th>\n",
       "      <td>100002</td>\n",
       "      <td>1</td>\n",
       "      <td>Cash loans</td>\n",
       "      <td>...</td>\n",
       "      <td>0.0000</td>\n",
       "      <td>0.0000</td>\n",
       "      <td>1.0000</td>\n",
       "    </tr>\n",
       "    <tr>\n",
       "      <th>1</th>\n",
       "      <td>100003</td>\n",
       "      <td>0</td>\n",
       "      <td>Cash loans</td>\n",
       "      <td>...</td>\n",
       "      <td>0.0000</td>\n",
       "      <td>0.0000</td>\n",
       "      <td>0.0000</td>\n",
       "    </tr>\n",
       "    <tr>\n",
       "      <th>2</th>\n",
       "      <td>100004</td>\n",
       "      <td>0</td>\n",
       "      <td>Revolving loans</td>\n",
       "      <td>...</td>\n",
       "      <td>0.0000</td>\n",
       "      <td>0.0000</td>\n",
       "      <td>0.0000</td>\n",
       "    </tr>\n",
       "    <tr>\n",
       "      <th>3</th>\n",
       "      <td>100006</td>\n",
       "      <td>0</td>\n",
       "      <td>Cash loans</td>\n",
       "      <td>...</td>\n",
       "      <td>nan</td>\n",
       "      <td>nan</td>\n",
       "      <td>nan</td>\n",
       "    </tr>\n",
       "    <tr>\n",
       "      <th>4</th>\n",
       "      <td>100007</td>\n",
       "      <td>0</td>\n",
       "      <td>Cash loans</td>\n",
       "      <td>...</td>\n",
       "      <td>0.0000</td>\n",
       "      <td>0.0000</td>\n",
       "      <td>0.0000</td>\n",
       "    </tr>\n",
       "    <tr>\n",
       "      <th>5</th>\n",
       "      <td>100008</td>\n",
       "      <td>0</td>\n",
       "      <td>Cash loans</td>\n",
       "      <td>...</td>\n",
       "      <td>0.0000</td>\n",
       "      <td>1.0000</td>\n",
       "      <td>1.0000</td>\n",
       "    </tr>\n",
       "    <tr>\n",
       "      <th>6</th>\n",
       "      <td>100009</td>\n",
       "      <td>0</td>\n",
       "      <td>Cash loans</td>\n",
       "      <td>...</td>\n",
       "      <td>1.0000</td>\n",
       "      <td>1.0000</td>\n",
       "      <td>2.0000</td>\n",
       "    </tr>\n",
       "    <tr>\n",
       "      <th>7</th>\n",
       "      <td>100010</td>\n",
       "      <td>0</td>\n",
       "      <td>Cash loans</td>\n",
       "      <td>...</td>\n",
       "      <td>0.0000</td>\n",
       "      <td>0.0000</td>\n",
       "      <td>0.0000</td>\n",
       "    </tr>\n",
       "    <tr>\n",
       "      <th>8</th>\n",
       "      <td>100011</td>\n",
       "      <td>0</td>\n",
       "      <td>Cash loans</td>\n",
       "      <td>...</td>\n",
       "      <td>0.0000</td>\n",
       "      <td>0.0000</td>\n",
       "      <td>1.0000</td>\n",
       "    </tr>\n",
       "    <tr>\n",
       "      <th>9</th>\n",
       "      <td>100012</td>\n",
       "      <td>0</td>\n",
       "      <td>Revolving loans</td>\n",
       "      <td>...</td>\n",
       "      <td>nan</td>\n",
       "      <td>nan</td>\n",
       "      <td>nan</td>\n",
       "    </tr>\n",
       "  </tbody>\n",
       "</table>\n",
       "<p>10 rows × 122 columns</p>\n",
       "</div>"
      ],
      "text/plain": [
       "   SK_ID_CURR  TARGET NAME_CONTRACT_TYPE            ...              \\\n",
       "0      100002       1         Cash loans            ...               \n",
       "1      100003       0         Cash loans            ...               \n",
       "2      100004       0    Revolving loans            ...               \n",
       "3      100006       0         Cash loans            ...               \n",
       "4      100007       0         Cash loans            ...               \n",
       "5      100008       0         Cash loans            ...               \n",
       "6      100009       0         Cash loans            ...               \n",
       "7      100010       0         Cash loans            ...               \n",
       "8      100011       0         Cash loans            ...               \n",
       "9      100012       0    Revolving loans            ...               \n",
       "\n",
       "  AMT_REQ_CREDIT_BUREAU_MON AMT_REQ_CREDIT_BUREAU_QRT  \\\n",
       "0                    0.0000                    0.0000   \n",
       "1                    0.0000                    0.0000   \n",
       "2                    0.0000                    0.0000   \n",
       "3                       nan                       nan   \n",
       "4                    0.0000                    0.0000   \n",
       "5                    0.0000                    1.0000   \n",
       "6                    1.0000                    1.0000   \n",
       "7                    0.0000                    0.0000   \n",
       "8                    0.0000                    0.0000   \n",
       "9                       nan                       nan   \n",
       "\n",
       "  AMT_REQ_CREDIT_BUREAU_YEAR  \n",
       "0                     1.0000  \n",
       "1                     0.0000  \n",
       "2                     0.0000  \n",
       "3                        nan  \n",
       "4                     0.0000  \n",
       "5                     1.0000  \n",
       "6                     2.0000  \n",
       "7                     0.0000  \n",
       "8                     1.0000  \n",
       "9                        nan  \n",
       "\n",
       "[10 rows x 122 columns]"
      ]
     },
     "execution_count": 6,
     "metadata": {},
     "output_type": "execute_result"
    }
   ],
   "source": [
    "app_train.head(10)"
   ]
  },
  {
   "cell_type": "markdown",
   "metadata": {},
   "source": [
    "It's possible to see that the two first columns are a identifier column (key) and the target variable, respectivelly. From now on those two columns will be removed from the analysis."
   ]
  },
  {
   "cell_type": "code",
   "execution_count": 7,
   "metadata": {},
   "outputs": [],
   "source": [
    "features = app_train.columns[2:]"
   ]
  },
  {
   "cell_type": "markdown",
   "metadata": {},
   "source": [
    "## Dataset description and statistics "
   ]
  },
  {
   "cell_type": "markdown",
   "metadata": {},
   "source": [
    "### Distribution of target data\n",
    "\n",
    "It seems that data is skewed, we have much more label 0 than label 1"
   ]
  },
  {
   "cell_type": "code",
   "execution_count": 8,
   "metadata": {},
   "outputs": [
    {
     "name": "stdout",
     "output_type": "stream",
     "text": [
      "Number of training instances with TARGET 0 : 282686\n",
      "Number of training instances with TARGET 1 : 24825\n"
     ]
    },
    {
     "data": {
      "image/png": "[encoded data removed]",
      "text/plain": [
       "<Figure size 432x288 with 1 Axes>"
      ]
     },
     "metadata": {},
     "output_type": "display_data"
    }
   ],
   "source": [
    "app_train['TARGET'].hist(bins=3)\n",
    "\n",
    "print('Number of training instances with TARGET 0 : {}'.format(app_train[app_train['TARGET']<=0].shape[0]))\n",
    "print('Number of training instances with TARGET 1 : {}'.format(app_train[app_train['TARGET']>0].shape[0]))"
   ]
  },
  {
   "cell_type": "markdown",
   "metadata": {},
   "source": [
    "Separating the features in the main file in **numerical** and **non-numerical** features in order to calculate statistics about the data "
   ]
  },
  {
   "cell_type": "code",
   "execution_count": 9,
   "metadata": {},
   "outputs": [
    {
     "name": "stdout",
     "output_type": "stream",
     "text": [
      "There are 16 NON-numerical features in the main dataset.\n",
      "There are 104 numerical features in the main dataset.\n",
      "\t39 are Int64 features\n",
      "\t65 are Float64 features\n"
     ]
    }
   ],
   "source": [
    "non_numerical_features = [col for col in app_train[features].columns if app_train[col].dtype == 'object']    \n",
    "text_binary_features = []\n",
    "\n",
    "numerical_features     = [col for col in app_train[features].columns if app_train[col].dtype != 'object']\n",
    "#Breaking numerical features into int and float\n",
    "int_features     = [col for col in app_train[numerical_features].columns if app_train[col].dtype == 'int64']\n",
    "int_binary_features = []    \n",
    "float_features   = [col for col in app_train[numerical_features].columns if app_train[col].dtype != 'int64']\n",
    "\n",
    "print(\"There are {} NON-numerical features in the main dataset.\".format(len(non_numerical_features)))\n",
    "print(\"There are {} numerical features in the main dataset.\".format(len(numerical_features)))\n",
    "print(\"\\t{} are Int64 features\".format(len(int_features)))\n",
    "print(\"\\t{} are Float64 features\".format(len(float_features)))"
   ]
  },
  {
   "cell_type": "markdown",
   "metadata": {},
   "source": [
    "### Numerical features\n"
   ]
  },
  {
   "cell_type": "markdown",
   "metadata": {},
   "source": [
    "Below is the list of numerical features and the description of the data"
   ]
  },
  {
   "cell_type": "code",
   "execution_count": 10,
   "metadata": {},
   "outputs": [
    {
     "name": "stdout",
     "output_type": "stream",
     "text": [
      "List of Int64 features : Index([u'CNT_CHILDREN', u'DAYS_BIRTH', u'DAYS_EMPLOYED', u'DAYS_ID_PUBLISH',\n",
      "       u'FLAG_MOBIL', u'FLAG_EMP_PHONE', u'FLAG_WORK_PHONE',\n",
      "       u'FLAG_CONT_MOBILE', u'FLAG_PHONE', u'FLAG_EMAIL',\n",
      "       u'REGION_RATING_CLIENT', u'REGION_RATING_CLIENT_W_CITY',\n",
      "       u'HOUR_APPR_PROCESS_START', u'REG_REGION_NOT_LIVE_REGION',\n",
      "       u'REG_REGION_NOT_WORK_REGION', u'LIVE_REGION_NOT_WORK_REGION',\n",
      "       u'REG_CITY_NOT_LIVE_CITY', u'REG_CITY_NOT_WORK_CITY',\n",
      "       u'LIVE_CITY_NOT_WORK_CITY', u'FLAG_DOCUMENT_2', u'FLAG_DOCUMENT_3',\n",
      "       u'FLAG_DOCUMENT_4', u'FLAG_DOCUMENT_5', u'FLAG_DOCUMENT_6',\n",
      "       u'FLAG_DOCUMENT_7', u'FLAG_DOCUMENT_8', u'FLAG_DOCUMENT_9',\n",
      "       u'FLAG_DOCUMENT_10', u'FLAG_DOCUMENT_11', u'FLAG_DOCUMENT_12',\n",
      "       u'FLAG_DOCUMENT_13', u'FLAG_DOCUMENT_14', u'FLAG_DOCUMENT_15',\n",
      "       u'FLAG_DOCUMENT_16', u'FLAG_DOCUMENT_17', u'FLAG_DOCUMENT_18',\n",
      "       u'FLAG_DOCUMENT_19', u'FLAG_DOCUMENT_20', u'FLAG_DOCUMENT_21'],\n",
      "      dtype='object')\n"
     ]
    },
    {
     "data": {
      "text/html": [
       "<div>\n",
       "<style scoped>\n",
       "    .dataframe tbody tr th:only-of-type {\n",
       "        vertical-align: middle;\n",
       "    }\n",
       "\n",
       "    .dataframe tbody tr th {\n",
       "        vertical-align: top;\n",
       "    }\n",
       "\n",
       "    .dataframe thead th {\n",
       "        text-align: right;\n",
       "    }\n",
       "</style>\n",
       "<table border=\"1\" class=\"dataframe\">\n",
       "  <thead>\n",
       "    <tr style=\"text-align: right;\">\n",
       "      <th></th>\n",
       "      <th>CNT_CHILDREN</th>\n",
       "      <th>DAYS_BIRTH</th>\n",
       "      <th>DAYS_EMPLOYED</th>\n",
       "      <th>...</th>\n",
       "      <th>FLAG_DOCUMENT_19</th>\n",
       "      <th>FLAG_DOCUMENT_20</th>\n",
       "      <th>FLAG_DOCUMENT_21</th>\n",
       "    </tr>\n",
       "  </thead>\n",
       "  <tbody>\n",
       "    <tr>\n",
       "      <th>count</th>\n",
       "      <td>307511.0000</td>\n",
       "      <td>307511.0000</td>\n",
       "      <td>307511.0000</td>\n",
       "      <td>...</td>\n",
       "      <td>307511.0000</td>\n",
       "      <td>307511.0000</td>\n",
       "      <td>307511.0000</td>\n",
       "    </tr>\n",
       "    <tr>\n",
       "      <th>mean</th>\n",
       "      <td>0.4171</td>\n",
       "      <td>-16036.9951</td>\n",
       "      <td>63815.0459</td>\n",
       "      <td>...</td>\n",
       "      <td>0.0006</td>\n",
       "      <td>0.0005</td>\n",
       "      <td>0.0003</td>\n",
       "    </tr>\n",
       "    <tr>\n",
       "      <th>std</th>\n",
       "      <td>0.7221</td>\n",
       "      <td>4363.9886</td>\n",
       "      <td>141275.7665</td>\n",
       "      <td>...</td>\n",
       "      <td>0.0244</td>\n",
       "      <td>0.0225</td>\n",
       "      <td>0.0183</td>\n",
       "    </tr>\n",
       "    <tr>\n",
       "      <th>min</th>\n",
       "      <td>0.0000</td>\n",
       "      <td>-25229.0000</td>\n",
       "      <td>-17912.0000</td>\n",
       "      <td>...</td>\n",
       "      <td>0.0000</td>\n",
       "      <td>0.0000</td>\n",
       "      <td>0.0000</td>\n",
       "    </tr>\n",
       "    <tr>\n",
       "      <th>25%</th>\n",
       "      <td>0.0000</td>\n",
       "      <td>-19682.0000</td>\n",
       "      <td>-2760.0000</td>\n",
       "      <td>...</td>\n",
       "      <td>0.0000</td>\n",
       "      <td>0.0000</td>\n",
       "      <td>0.0000</td>\n",
       "    </tr>\n",
       "    <tr>\n",
       "      <th>50%</th>\n",
       "      <td>0.0000</td>\n",
       "      <td>-15750.0000</td>\n",
       "      <td>-1213.0000</td>\n",
       "      <td>...</td>\n",
       "      <td>0.0000</td>\n",
       "      <td>0.0000</td>\n",
       "      <td>0.0000</td>\n",
       "    </tr>\n",
       "    <tr>\n",
       "      <th>75%</th>\n",
       "      <td>1.0000</td>\n",
       "      <td>-12413.0000</td>\n",
       "      <td>-289.0000</td>\n",
       "      <td>...</td>\n",
       "      <td>0.0000</td>\n",
       "      <td>0.0000</td>\n",
       "      <td>0.0000</td>\n",
       "    </tr>\n",
       "    <tr>\n",
       "      <th>max</th>\n",
       "      <td>19.0000</td>\n",
       "      <td>-7489.0000</td>\n",
       "      <td>365243.0000</td>\n",
       "      <td>...</td>\n",
       "      <td>1.0000</td>\n",
       "      <td>1.0000</td>\n",
       "      <td>1.0000</td>\n",
       "    </tr>\n",
       "  </tbody>\n",
       "</table>\n",
       "<p>8 rows × 39 columns</p>\n",
       "</div>"
      ],
      "text/plain": [
       "       CNT_CHILDREN  DAYS_BIRTH  DAYS_EMPLOYED        ...         \\\n",
       "count   307511.0000 307511.0000    307511.0000        ...          \n",
       "mean         0.4171 -16036.9951     63815.0459        ...          \n",
       "std          0.7221   4363.9886    141275.7665        ...          \n",
       "min          0.0000 -25229.0000    -17912.0000        ...          \n",
       "25%          0.0000 -19682.0000     -2760.0000        ...          \n",
       "50%          0.0000 -15750.0000     -1213.0000        ...          \n",
       "75%          1.0000 -12413.0000      -289.0000        ...          \n",
       "max         19.0000  -7489.0000    365243.0000        ...          \n",
       "\n",
       "       FLAG_DOCUMENT_19  FLAG_DOCUMENT_20  FLAG_DOCUMENT_21  \n",
       "count       307511.0000       307511.0000       307511.0000  \n",
       "mean             0.0006            0.0005            0.0003  \n",
       "std              0.0244            0.0225            0.0183  \n",
       "min              0.0000            0.0000            0.0000  \n",
       "25%              0.0000            0.0000            0.0000  \n",
       "50%              0.0000            0.0000            0.0000  \n",
       "75%              0.0000            0.0000            0.0000  \n",
       "max              1.0000            1.0000            1.0000  \n",
       "\n",
       "[8 rows x 39 columns]"
      ]
     },
     "execution_count": 10,
     "metadata": {},
     "output_type": "execute_result"
    }
   ],
   "source": [
    "print(\"List of Int64 features : {}\".format(app_train[int_features].columns))\n",
    "app_train[int_features].describe()"
   ]
  },
  {
   "cell_type": "markdown",
   "metadata": {},
   "source": [
    "There are some categorical features (e.g: FLAG_xxx features are binary features) that are coded as 0 and 1 (Int64) but in fact they are categorical. We're going to remove them from the numerical features and store in another variable called *int_binary_features*."
   ]
  },
  {
   "cell_type": "code",
   "execution_count": 11,
   "metadata": {},
   "outputs": [],
   "source": [
    "int_binary_features = ['FLAG_MOBIL', 'FLAG_EMP_PHONE', 'FLAG_WORK_PHONE',\n",
    "       'FLAG_CONT_MOBILE', 'FLAG_PHONE', 'FLAG_EMAIL', 'REG_REGION_NOT_LIVE_REGION',\n",
    "       'REG_REGION_NOT_WORK_REGION', 'LIVE_REGION_NOT_WORK_REGION',\n",
    "       'REG_CITY_NOT_LIVE_CITY', 'REG_CITY_NOT_WORK_CITY',\n",
    "       'LIVE_CITY_NOT_WORK_CITY', 'FLAG_DOCUMENT_2', 'FLAG_DOCUMENT_3',\n",
    "       'FLAG_DOCUMENT_4', 'FLAG_DOCUMENT_5', 'FLAG_DOCUMENT_6',\n",
    "       'FLAG_DOCUMENT_7', 'FLAG_DOCUMENT_8', 'FLAG_DOCUMENT_9',\n",
    "       'FLAG_DOCUMENT_10', 'FLAG_DOCUMENT_11', 'FLAG_DOCUMENT_12',\n",
    "       'FLAG_DOCUMENT_13', 'FLAG_DOCUMENT_14', 'FLAG_DOCUMENT_15',\n",
    "       'FLAG_DOCUMENT_16', 'FLAG_DOCUMENT_17', 'FLAG_DOCUMENT_18',\n",
    "       'FLAG_DOCUMENT_19', 'FLAG_DOCUMENT_20', 'FLAG_DOCUMENT_21']\n",
    "\n",
    "int_features = [col for col in int_features if col not in int_binary_features]\n",
    "numerical_features = [col for col in numerical_features if col not in int_binary_features]"
   ]
  },
  {
   "cell_type": "code",
   "execution_count": 12,
   "metadata": {},
   "outputs": [
    {
     "name": "stdout",
     "output_type": "stream",
     "text": [
      "List of Float64 features : Index([u'AMT_INCOME_TOTAL', u'AMT_CREDIT', u'AMT_ANNUITY', u'AMT_GOODS_PRICE',\n",
      "       u'REGION_POPULATION_RELATIVE', u'DAYS_REGISTRATION', u'OWN_CAR_AGE',\n",
      "       u'CNT_FAM_MEMBERS', u'EXT_SOURCE_1', u'EXT_SOURCE_2', u'EXT_SOURCE_3',\n",
      "       u'APARTMENTS_AVG', u'BASEMENTAREA_AVG', u'YEARS_BEGINEXPLUATATION_AVG',\n",
      "       u'YEARS_BUILD_AVG', u'COMMONAREA_AVG', u'ELEVATORS_AVG',\n",
      "       u'ENTRANCES_AVG', u'FLOORSMAX_AVG', u'FLOORSMIN_AVG', u'LANDAREA_AVG',\n",
      "       u'LIVINGAPARTMENTS_AVG', u'LIVINGAREA_AVG', u'NONLIVINGAPARTMENTS_AVG',\n",
      "       u'NONLIVINGAREA_AVG', u'APARTMENTS_MODE', u'BASEMENTAREA_MODE',\n",
      "       u'YEARS_BEGINEXPLUATATION_MODE', u'YEARS_BUILD_MODE',\n",
      "       u'COMMONAREA_MODE', u'ELEVATORS_MODE', u'ENTRANCES_MODE',\n",
      "       u'FLOORSMAX_MODE', u'FLOORSMIN_MODE', u'LANDAREA_MODE',\n",
      "       u'LIVINGAPARTMENTS_MODE', u'LIVINGAREA_MODE',\n",
      "       u'NONLIVINGAPARTMENTS_MODE', u'NONLIVINGAREA_MODE', u'APARTMENTS_MEDI',\n",
      "       u'BASEMENTAREA_MEDI', u'YEARS_BEGINEXPLUATATION_MEDI',\n",
      "       u'YEARS_BUILD_MEDI', u'COMMONAREA_MEDI', u'ELEVATORS_MEDI',\n",
      "       u'ENTRANCES_MEDI', u'FLOORSMAX_MEDI', u'FLOORSMIN_MEDI',\n",
      "       u'LANDAREA_MEDI', u'LIVINGAPARTMENTS_MEDI', u'LIVINGAREA_MEDI',\n",
      "       u'NONLIVINGAPARTMENTS_MEDI', u'NONLIVINGAREA_MEDI', u'TOTALAREA_MODE',\n",
      "       u'OBS_30_CNT_SOCIAL_CIRCLE', u'DEF_30_CNT_SOCIAL_CIRCLE',\n",
      "       u'OBS_60_CNT_SOCIAL_CIRCLE', u'DEF_60_CNT_SOCIAL_CIRCLE',\n",
      "       u'DAYS_LAST_PHONE_CHANGE', u'AMT_REQ_CREDIT_BUREAU_HOUR',\n",
      "       u'AMT_REQ_CREDIT_BUREAU_DAY', u'AMT_REQ_CREDIT_BUREAU_WEEK',\n",
      "       u'AMT_REQ_CREDIT_BUREAU_MON', u'AMT_REQ_CREDIT_BUREAU_QRT',\n",
      "       u'AMT_REQ_CREDIT_BUREAU_YEAR'],\n",
      "      dtype='object')\n"
     ]
    },
    {
     "data": {
      "text/html": [
       "<div>\n",
       "<style scoped>\n",
       "    .dataframe tbody tr th:only-of-type {\n",
       "        vertical-align: middle;\n",
       "    }\n",
       "\n",
       "    .dataframe tbody tr th {\n",
       "        vertical-align: top;\n",
       "    }\n",
       "\n",
       "    .dataframe thead th {\n",
       "        text-align: right;\n",
       "    }\n",
       "</style>\n",
       "<table border=\"1\" class=\"dataframe\">\n",
       "  <thead>\n",
       "    <tr style=\"text-align: right;\">\n",
       "      <th></th>\n",
       "      <th>AMT_INCOME_TOTAL</th>\n",
       "      <th>AMT_CREDIT</th>\n",
       "      <th>AMT_ANNUITY</th>\n",
       "      <th>...</th>\n",
       "      <th>AMT_REQ_CREDIT_BUREAU_MON</th>\n",
       "      <th>AMT_REQ_CREDIT_BUREAU_QRT</th>\n",
       "      <th>AMT_REQ_CREDIT_BUREAU_YEAR</th>\n",
       "    </tr>\n",
       "  </thead>\n",
       "  <tbody>\n",
       "    <tr>\n",
       "      <th>count</th>\n",
       "      <td>307511.0000</td>\n",
       "      <td>307511.0000</td>\n",
       "      <td>307499.0000</td>\n",
       "      <td>...</td>\n",
       "      <td>265992.0000</td>\n",
       "      <td>265992.0000</td>\n",
       "      <td>265992.0000</td>\n",
       "    </tr>\n",
       "    <tr>\n",
       "      <th>mean</th>\n",
       "      <td>168797.9193</td>\n",
       "      <td>599025.9997</td>\n",
       "      <td>27108.5739</td>\n",
       "      <td>...</td>\n",
       "      <td>0.2674</td>\n",
       "      <td>0.2655</td>\n",
       "      <td>1.9000</td>\n",
       "    </tr>\n",
       "    <tr>\n",
       "      <th>std</th>\n",
       "      <td>237123.1463</td>\n",
       "      <td>402490.7770</td>\n",
       "      <td>14493.7373</td>\n",
       "      <td>...</td>\n",
       "      <td>0.9160</td>\n",
       "      <td>0.7941</td>\n",
       "      <td>1.8693</td>\n",
       "    </tr>\n",
       "    <tr>\n",
       "      <th>min</th>\n",
       "      <td>25650.0000</td>\n",
       "      <td>45000.0000</td>\n",
       "      <td>1615.5000</td>\n",
       "      <td>...</td>\n",
       "      <td>0.0000</td>\n",
       "      <td>0.0000</td>\n",
       "      <td>0.0000</td>\n",
       "    </tr>\n",
       "    <tr>\n",
       "      <th>25%</th>\n",
       "      <td>112500.0000</td>\n",
       "      <td>270000.0000</td>\n",
       "      <td>16524.0000</td>\n",
       "      <td>...</td>\n",
       "      <td>0.0000</td>\n",
       "      <td>0.0000</td>\n",
       "      <td>0.0000</td>\n",
       "    </tr>\n",
       "    <tr>\n",
       "      <th>50%</th>\n",
       "      <td>147150.0000</td>\n",
       "      <td>513531.0000</td>\n",
       "      <td>24903.0000</td>\n",
       "      <td>...</td>\n",
       "      <td>0.0000</td>\n",
       "      <td>0.0000</td>\n",
       "      <td>1.0000</td>\n",
       "    </tr>\n",
       "    <tr>\n",
       "      <th>75%</th>\n",
       "      <td>202500.0000</td>\n",
       "      <td>808650.0000</td>\n",
       "      <td>34596.0000</td>\n",
       "      <td>...</td>\n",
       "      <td>0.0000</td>\n",
       "      <td>0.0000</td>\n",
       "      <td>3.0000</td>\n",
       "    </tr>\n",
       "    <tr>\n",
       "      <th>max</th>\n",
       "      <td>117000000.0000</td>\n",
       "      <td>4050000.0000</td>\n",
       "      <td>258025.5000</td>\n",
       "      <td>...</td>\n",
       "      <td>27.0000</td>\n",
       "      <td>261.0000</td>\n",
       "      <td>25.0000</td>\n",
       "    </tr>\n",
       "  </tbody>\n",
       "</table>\n",
       "<p>8 rows × 65 columns</p>\n",
       "</div>"
      ],
      "text/plain": [
       "       AMT_INCOME_TOTAL   AMT_CREDIT  AMT_ANNUITY             ...              \\\n",
       "count       307511.0000  307511.0000  307499.0000             ...               \n",
       "mean        168797.9193  599025.9997   27108.5739             ...               \n",
       "std         237123.1463  402490.7770   14493.7373             ...               \n",
       "min          25650.0000   45000.0000    1615.5000             ...               \n",
       "25%         112500.0000  270000.0000   16524.0000             ...               \n",
       "50%         147150.0000  513531.0000   24903.0000             ...               \n",
       "75%         202500.0000  808650.0000   34596.0000             ...               \n",
       "max      117000000.0000 4050000.0000  258025.5000             ...               \n",
       "\n",
       "       AMT_REQ_CREDIT_BUREAU_MON  AMT_REQ_CREDIT_BUREAU_QRT  \\\n",
       "count                265992.0000                265992.0000   \n",
       "mean                      0.2674                     0.2655   \n",
       "std                       0.9160                     0.7941   \n",
       "min                       0.0000                     0.0000   \n",
       "25%                       0.0000                     0.0000   \n",
       "50%                       0.0000                     0.0000   \n",
       "75%                       0.0000                     0.0000   \n",
       "max                      27.0000                   261.0000   \n",
       "\n",
       "       AMT_REQ_CREDIT_BUREAU_YEAR  \n",
       "count                 265992.0000  \n",
       "mean                       1.9000  \n",
       "std                        1.8693  \n",
       "min                        0.0000  \n",
       "25%                        0.0000  \n",
       "50%                        1.0000  \n",
       "75%                        3.0000  \n",
       "max                       25.0000  \n",
       "\n",
       "[8 rows x 65 columns]"
      ]
     },
     "execution_count": 12,
     "metadata": {},
     "output_type": "execute_result"
    }
   ],
   "source": [
    "print(\"List of Float64 features : {}\".format(app_train[float_features].columns))\n",
    "app_train[float_features].describe()"
   ]
  },
  {
   "cell_type": "markdown",
   "metadata": {},
   "source": [
    "### percentage of null (NaN) among numerical variables"
   ]
  },
  {
   "cell_type": "code",
   "execution_count": 13,
   "metadata": {},
   "outputs": [],
   "source": [
    "def null_count(dataframe):\n",
    "    null = dataframe.isnull().sum()\n",
    "    \n",
    "    columns = null.index.values\n",
    "    null_count = null.values\n",
    "    null_stats = pd.DataFrame({'column' : columns, 'null_count': null_count})\n",
    "    null_stats['total_rows'] = dataframe.shape[0]\n",
    "    null_stats['perc_null'] = (null_stats['null_count'] / null_stats['total_rows']) * 100\n",
    "    null_stats = null_stats[null_stats['null_count']> 0]\n",
    "    null_stats = null_stats.sort_values(by=['null_count'],ascending=False)\n",
    "    \n",
    "    return null_stats"
   ]
  },
  {
   "cell_type": "code",
   "execution_count": 14,
   "metadata": {},
   "outputs": [
    {
     "name": "stdout",
     "output_type": "stream",
     "text": [
      "Number of features (numerical) with missing values : 61\n"
     ]
    },
    {
     "data": {
      "image/png": "[encoded data removed]",
      "text/plain": [
       "<Figure size 1080x1080 with 1 Axes>"
      ]
     },
     "metadata": {},
     "output_type": "display_data"
    }
   ],
   "source": [
    "null_numerical = null_count(app_train[numerical_features])\n",
    "print 'Number of features (numerical) with missing values : {}'.format(null_numerical.shape[0])\n",
    "null_numerical.head(10)\n",
    "\n",
    "null_numerical = null_numerical.sort_values(by=\"perc_null\")\n",
    "null_numerical = null_numerical.reset_index(drop=True)\n",
    "\n",
    "ax = null_numerical.plot(kind=\"barh\",x=\"column\",y=\"perc_null\",figsize=(15,15),legend=False)\n",
    "for i,patch in enumerate(ax.patches):\n",
    "    # get_width pulls left or right; get_y pushes up or down\n",
    "    ax.text(patch.get_width()+.3, patch.get_y(), \\\n",
    "            str(round(null_numerical.loc[i,\"perc_null\"],1))+'%', fontsize=11,\n",
    "color='dimgrey')"
   ]
  },
  {
   "cell_type": "code",
   "execution_count": 15,
   "metadata": {},
   "outputs": [
    {
     "data": {
      "text/html": [
       "<div>\n",
       "<style scoped>\n",
       "    .dataframe tbody tr th:only-of-type {\n",
       "        vertical-align: middle;\n",
       "    }\n",
       "\n",
       "    .dataframe tbody tr th {\n",
       "        vertical-align: top;\n",
       "    }\n",
       "\n",
       "    .dataframe thead th {\n",
       "        text-align: right;\n",
       "    }\n",
       "</style>\n",
       "<table border=\"1\" class=\"dataframe\">\n",
       "  <thead>\n",
       "    <tr style=\"text-align: right;\">\n",
       "      <th></th>\n",
       "      <th>column</th>\n",
       "      <th>null_count</th>\n",
       "      <th>total_rows</th>\n",
       "      <th>perc_null</th>\n",
       "    </tr>\n",
       "  </thead>\n",
       "  <tbody>\n",
       "  </tbody>\n",
       "</table>\n",
       "</div>"
      ],
      "text/plain": [
       "Empty DataFrame\n",
       "Columns: [column, null_count, total_rows, perc_null]\n",
       "Index: []"
      ]
     },
     "execution_count": 15,
     "metadata": {},
     "output_type": "execute_result"
    }
   ],
   "source": [
    "null_int_binary = null_count(app_train[int_binary_features])\n",
    "null_int_binary"
   ]
  },
  {
   "cell_type": "markdown",
   "metadata": {},
   "source": [
    "It seems boolean data coded in (0,1) is complete :)."
   ]
  },
  {
   "cell_type": "markdown",
   "metadata": {},
   "source": [
    "### Non-numerical features\n"
   ]
  },
  {
   "cell_type": "code",
   "execution_count": 16,
   "metadata": {},
   "outputs": [
    {
     "name": "stdout",
     "output_type": "stream",
     "text": [
      "There are 16 non-numerical features : Index([u'NAME_CONTRACT_TYPE', u'CODE_GENDER', u'FLAG_OWN_CAR',\n",
      "       u'FLAG_OWN_REALTY', u'NAME_TYPE_SUITE', u'NAME_INCOME_TYPE',\n",
      "       u'NAME_EDUCATION_TYPE', u'NAME_FAMILY_STATUS', u'NAME_HOUSING_TYPE',\n",
      "       u'OCCUPATION_TYPE', u'WEEKDAY_APPR_PROCESS_START', u'ORGANIZATION_TYPE',\n",
      "       u'FONDKAPREMONT_MODE', u'HOUSETYPE_MODE', u'WALLSMATERIAL_MODE',\n",
      "       u'EMERGENCYSTATE_MODE'],\n",
      "      dtype='object')\n"
     ]
    },
    {
     "data": {
      "text/html": [
       "<div>\n",
       "<style scoped>\n",
       "    .dataframe tbody tr th:only-of-type {\n",
       "        vertical-align: middle;\n",
       "    }\n",
       "\n",
       "    .dataframe tbody tr th {\n",
       "        vertical-align: top;\n",
       "    }\n",
       "\n",
       "    .dataframe thead th {\n",
       "        text-align: right;\n",
       "    }\n",
       "</style>\n",
       "<table border=\"1\" class=\"dataframe\">\n",
       "  <thead>\n",
       "    <tr style=\"text-align: right;\">\n",
       "      <th></th>\n",
       "      <th>NAME_CONTRACT_TYPE</th>\n",
       "      <th>CODE_GENDER</th>\n",
       "      <th>FLAG_OWN_CAR</th>\n",
       "      <th>...</th>\n",
       "      <th>HOUSETYPE_MODE</th>\n",
       "      <th>WALLSMATERIAL_MODE</th>\n",
       "      <th>EMERGENCYSTATE_MODE</th>\n",
       "    </tr>\n",
       "  </thead>\n",
       "  <tbody>\n",
       "    <tr>\n",
       "      <th>count</th>\n",
       "      <td>307511</td>\n",
       "      <td>307511</td>\n",
       "      <td>307511</td>\n",
       "      <td>...</td>\n",
       "      <td>153214</td>\n",
       "      <td>151170</td>\n",
       "      <td>161756</td>\n",
       "    </tr>\n",
       "    <tr>\n",
       "      <th>unique</th>\n",
       "      <td>2</td>\n",
       "      <td>3</td>\n",
       "      <td>2</td>\n",
       "      <td>...</td>\n",
       "      <td>3</td>\n",
       "      <td>7</td>\n",
       "      <td>2</td>\n",
       "    </tr>\n",
       "    <tr>\n",
       "      <th>top</th>\n",
       "      <td>Cash loans</td>\n",
       "      <td>F</td>\n",
       "      <td>N</td>\n",
       "      <td>...</td>\n",
       "      <td>block of flats</td>\n",
       "      <td>Panel</td>\n",
       "      <td>No</td>\n",
       "    </tr>\n",
       "    <tr>\n",
       "      <th>freq</th>\n",
       "      <td>278232</td>\n",
       "      <td>202448</td>\n",
       "      <td>202924</td>\n",
       "      <td>...</td>\n",
       "      <td>150503</td>\n",
       "      <td>66040</td>\n",
       "      <td>159428</td>\n",
       "    </tr>\n",
       "  </tbody>\n",
       "</table>\n",
       "<p>4 rows × 16 columns</p>\n",
       "</div>"
      ],
      "text/plain": [
       "       NAME_CONTRACT_TYPE CODE_GENDER FLAG_OWN_CAR         ...          \\\n",
       "count              307511      307511       307511         ...           \n",
       "unique                  2           3            2         ...           \n",
       "top            Cash loans           F            N         ...           \n",
       "freq               278232      202448       202924         ...           \n",
       "\n",
       "        HOUSETYPE_MODE WALLSMATERIAL_MODE EMERGENCYSTATE_MODE  \n",
       "count           153214             151170              161756  \n",
       "unique               3                  7                   2  \n",
       "top     block of flats              Panel                  No  \n",
       "freq            150503              66040              159428  \n",
       "\n",
       "[4 rows x 16 columns]"
      ]
     },
     "execution_count": 16,
     "metadata": {},
     "output_type": "execute_result"
    }
   ],
   "source": [
    "print(\"There are {} non-numerical features : {}\".format(len(non_numerical_features),app_train[non_numerical_features].columns))\n",
    "app_train[non_numerical_features].describe()"
   ]
  },
  {
   "cell_type": "code",
   "execution_count": 17,
   "metadata": {},
   "outputs": [
    {
     "data": {
      "text/html": [
       "<div>\n",
       "<style scoped>\n",
       "    .dataframe tbody tr th:only-of-type {\n",
       "        vertical-align: middle;\n",
       "    }\n",
       "\n",
       "    .dataframe tbody tr th {\n",
       "        vertical-align: top;\n",
       "    }\n",
       "\n",
       "    .dataframe thead th {\n",
       "        text-align: right;\n",
       "    }\n",
       "</style>\n",
       "<table border=\"1\" class=\"dataframe\">\n",
       "  <thead>\n",
       "    <tr style=\"text-align: right;\">\n",
       "      <th></th>\n",
       "      <th>column</th>\n",
       "      <th>null_count</th>\n",
       "      <th>total_rows</th>\n",
       "      <th>perc_null</th>\n",
       "    </tr>\n",
       "  </thead>\n",
       "  <tbody>\n",
       "    <tr>\n",
       "      <th>12</th>\n",
       "      <td>FONDKAPREMONT_MODE</td>\n",
       "      <td>210295</td>\n",
       "      <td>307511</td>\n",
       "      <td>68.3862</td>\n",
       "    </tr>\n",
       "    <tr>\n",
       "      <th>14</th>\n",
       "      <td>WALLSMATERIAL_MODE</td>\n",
       "      <td>156341</td>\n",
       "      <td>307511</td>\n",
       "      <td>50.8408</td>\n",
       "    </tr>\n",
       "    <tr>\n",
       "      <th>13</th>\n",
       "      <td>HOUSETYPE_MODE</td>\n",
       "      <td>154297</td>\n",
       "      <td>307511</td>\n",
       "      <td>50.1761</td>\n",
       "    </tr>\n",
       "    <tr>\n",
       "      <th>15</th>\n",
       "      <td>EMERGENCYSTATE_MODE</td>\n",
       "      <td>145755</td>\n",
       "      <td>307511</td>\n",
       "      <td>47.3983</td>\n",
       "    </tr>\n",
       "    <tr>\n",
       "      <th>9</th>\n",
       "      <td>OCCUPATION_TYPE</td>\n",
       "      <td>96391</td>\n",
       "      <td>307511</td>\n",
       "      <td>31.3455</td>\n",
       "    </tr>\n",
       "    <tr>\n",
       "      <th>4</th>\n",
       "      <td>NAME_TYPE_SUITE</td>\n",
       "      <td>1292</td>\n",
       "      <td>307511</td>\n",
       "      <td>0.4201</td>\n",
       "    </tr>\n",
       "  </tbody>\n",
       "</table>\n",
       "</div>"
      ],
      "text/plain": [
       "                 column  null_count  total_rows  perc_null\n",
       "12   FONDKAPREMONT_MODE      210295      307511    68.3862\n",
       "14   WALLSMATERIAL_MODE      156341      307511    50.8408\n",
       "13       HOUSETYPE_MODE      154297      307511    50.1761\n",
       "15  EMERGENCYSTATE_MODE      145755      307511    47.3983\n",
       "9       OCCUPATION_TYPE       96391      307511    31.3455\n",
       "4       NAME_TYPE_SUITE        1292      307511     0.4201"
      ]
     },
     "execution_count": 17,
     "metadata": {},
     "output_type": "execute_result"
    }
   ],
   "source": [
    "null_non_numerical = null_count(app_train[non_numerical_features])\n",
    "null_non_numerical"
   ]
  },
  {
   "cell_type": "markdown",
   "metadata": {},
   "source": [
    "### binary variables"
   ]
  },
  {
   "cell_type": "markdown",
   "metadata": {},
   "source": [
    "We can see from the data above that the features EMERGENCYSTATE_MODE has only two possible values (yes/no). However, we're going to treat it as it has more than 2 categories, once we're going to introduce a new category to represent the null values.\n",
    "\n",
    "The list of binary features is defined below:"
   ]
  },
  {
   "cell_type": "code",
   "execution_count": 18,
   "metadata": {},
   "outputs": [],
   "source": [
    "text_binary_features = ['NAME_CONTRACT_TYPE','FLAG_OWN_CAR','FLAG_OWN_REALTY']\n",
    "\n",
    "non_numerical_features = [col for col in non_numerical_features if col not in text_binary_features]"
   ]
  },
  {
   "cell_type": "markdown",
   "metadata": {},
   "source": [
    "Looking at the statistics above we start to see some aspects of the data that would be interesting to adjust:\n",
    "* Some categorical features have too many levels (e.g: OCCUPATION_TYPE has 18, ORGANIZATION_TYPE has 58)\n",
    "* Some of them have null data"
   ]
  },
  {
   "cell_type": "markdown",
   "metadata": {},
   "source": [
    "### Person Correlation Coefficient"
   ]
  },
  {
   "cell_type": "code",
   "execution_count": 19,
   "metadata": {},
   "outputs": [],
   "source": [
    "corr_target = app_train.corr()[\"TARGET\"]"
   ]
  },
  {
   "cell_type": "code",
   "execution_count": 20,
   "metadata": {},
   "outputs": [
    {
     "data": {
      "text/html": [
       "<div>\n",
       "<style scoped>\n",
       "    .dataframe tbody tr th:only-of-type {\n",
       "        vertical-align: middle;\n",
       "    }\n",
       "\n",
       "    .dataframe tbody tr th {\n",
       "        vertical-align: top;\n",
       "    }\n",
       "\n",
       "    .dataframe thead th {\n",
       "        text-align: right;\n",
       "    }\n",
       "</style>\n",
       "<table border=\"1\" class=\"dataframe\">\n",
       "  <thead>\n",
       "    <tr style=\"text-align: right;\">\n",
       "      <th></th>\n",
       "      <th>TARGET</th>\n",
       "    </tr>\n",
       "  </thead>\n",
       "  <tbody>\n",
       "    <tr>\n",
       "      <th>TARGET</th>\n",
       "      <td>1.0000</td>\n",
       "    </tr>\n",
       "    <tr>\n",
       "      <th>EXT_SOURCE_3</th>\n",
       "      <td>0.1789</td>\n",
       "    </tr>\n",
       "    <tr>\n",
       "      <th>EXT_SOURCE_2</th>\n",
       "      <td>0.1605</td>\n",
       "    </tr>\n",
       "    <tr>\n",
       "      <th>EXT_SOURCE_1</th>\n",
       "      <td>0.1553</td>\n",
       "    </tr>\n",
       "    <tr>\n",
       "      <th>DAYS_BIRTH</th>\n",
       "      <td>0.0782</td>\n",
       "    </tr>\n",
       "    <tr>\n",
       "      <th>REGION_RATING_CLIENT_W_CITY</th>\n",
       "      <td>0.0609</td>\n",
       "    </tr>\n",
       "    <tr>\n",
       "      <th>REGION_RATING_CLIENT</th>\n",
       "      <td>0.0589</td>\n",
       "    </tr>\n",
       "    <tr>\n",
       "      <th>DAYS_LAST_PHONE_CHANGE</th>\n",
       "      <td>0.0552</td>\n",
       "    </tr>\n",
       "    <tr>\n",
       "      <th>DAYS_ID_PUBLISH</th>\n",
       "      <td>0.0515</td>\n",
       "    </tr>\n",
       "    <tr>\n",
       "      <th>REG_CITY_NOT_WORK_CITY</th>\n",
       "      <td>0.0510</td>\n",
       "    </tr>\n",
       "    <tr>\n",
       "      <th>FLAG_EMP_PHONE</th>\n",
       "      <td>0.0460</td>\n",
       "    </tr>\n",
       "  </tbody>\n",
       "</table>\n",
       "</div>"
      ],
      "text/plain": [
       "                             TARGET\n",
       "TARGET                       1.0000\n",
       "EXT_SOURCE_3                 0.1789\n",
       "EXT_SOURCE_2                 0.1605\n",
       "EXT_SOURCE_1                 0.1553\n",
       "DAYS_BIRTH                   0.0782\n",
       "REGION_RATING_CLIENT_W_CITY  0.0609\n",
       "REGION_RATING_CLIENT         0.0589\n",
       "DAYS_LAST_PHONE_CHANGE       0.0552\n",
       "DAYS_ID_PUBLISH              0.0515\n",
       "REG_CITY_NOT_WORK_CITY       0.0510\n",
       "FLAG_EMP_PHONE               0.0460"
      ]
     },
     "execution_count": 20,
     "metadata": {},
     "output_type": "execute_result"
    }
   ],
   "source": [
    "top_corr = pd.DataFrame(corr_target.abs().sort_values(ascending=False).head(11))\n",
    "top_corr"
   ]
  },
  {
   "cell_type": "code",
   "execution_count": 21,
   "metadata": {},
   "outputs": [
    {
     "data": {
      "text/plain": [
       "array([[<matplotlib.axes._subplots.AxesSubplot object at 0x000000001EDFB320>,\n",
       "        <matplotlib.axes._subplots.AxesSubplot object at 0x0000000023AA6748>,\n",
       "        <matplotlib.axes._subplots.AxesSubplot object at 0x000000001C7101D0>],\n",
       "       [<matplotlib.axes._subplots.AxesSubplot object at 0x000000001C740940>,\n",
       "        <matplotlib.axes._subplots.AxesSubplot object at 0x000000001F56F0F0>,\n",
       "        <matplotlib.axes._subplots.AxesSubplot object at 0x0000000021441860>],\n",
       "       [<matplotlib.axes._subplots.AxesSubplot object at 0x0000000021B93EF0>,\n",
       "        <matplotlib.axes._subplots.AxesSubplot object at 0x0000000022AE56A0>,\n",
       "        <matplotlib.axes._subplots.AxesSubplot object at 0x0000000023289E10>],\n",
       "       [<matplotlib.axes._subplots.AxesSubplot object at 0x00000000232C85C0>,\n",
       "        <matplotlib.axes._subplots.AxesSubplot object at 0x000000002590FD30>,\n",
       "        <matplotlib.axes._subplots.AxesSubplot object at 0x00000000259504E0>]],\n",
       "      dtype=object)"
      ]
     },
     "execution_count": 21,
     "metadata": {},
     "output_type": "execute_result"
    },
    {
     "data": {
      "image/png": "[encoded data removed]",
      "text/plain": [
       "<Figure size 720x720 with 12 Axes>"
      ]
     },
     "metadata": {},
     "output_type": "display_data"
    }
   ],
   "source": [
    "app_train[top_corr.index[1:]].hist(figsize=(10,10))"
   ]
  },
  {
   "cell_type": "markdown",
   "metadata": {},
   "source": [
    "## Data Preparation"
   ]
  },
  {
   "cell_type": "markdown",
   "metadata": {},
   "source": [
    "### Label encoding for discrete features\n",
    "\n",
    "For features with 2 or more levels, where going to perform one-hot encoding.\n",
    "For binary features, we're going to perform label encoding.\n",
    "But before that, null values will be placed in a new category called 'NOT_INF' (short for 'not informed')."
   ]
  },
  {
   "cell_type": "code",
   "execution_count": 22,
   "metadata": {},
   "outputs": [],
   "source": [
    "#binary features\n",
    "label_encoder = LabelEncoder()\n",
    "for col in text_binary_features:\n",
    "    label_encoder.fit(app_train[col])\n",
    "    app_train[col] = label_encoder.transform(app_train[col])\n",
    "    app_test[col] = label_encoder.transform(app_test[col])"
   ]
  },
  {
   "cell_type": "code",
   "execution_count": 23,
   "metadata": {},
   "outputs": [],
   "source": [
    "#add NOT_INF to NaN values in categorical features\n",
    "for feat in non_numerical_features:\n",
    "    app_train.at[app_train[feat].isnull(),[feat]] = 'NOT_INF'\n",
    "    app_test.at[app_test[feat].isnull(),[feat]] = 'NOT_INF'"
   ]
  },
  {
   "cell_type": "code",
   "execution_count": 24,
   "metadata": {},
   "outputs": [],
   "source": [
    "#one-hot encoding for categorical features with more than 2 unique values\n",
    "categorical_data_train = pd.get_dummies(app_train[non_numerical_features])\n",
    "categorical_data_test  = pd.get_dummies(app_test[non_numerical_features])\n",
    "one_hot_features = categorical_data_train.columns\n",
    "app_train = pd.concat([app_train,categorical_data_train],axis=1)\n",
    "app_test  = pd.concat([app_test,categorical_data_test],axis=1)\n",
    "### remove the raw columns\n",
    "app_train = app_train.drop(columns=non_numerical_features)\n",
    "app_test  = app_test.drop(columns=non_numerical_features)"
   ]
  },
  {
   "cell_type": "code",
   "execution_count": 25,
   "metadata": {},
   "outputs": [
    {
     "name": "stdout",
     "output_type": "stream",
     "text": [
      "(307511, 249)\n",
      "(48744, 245)\n"
     ]
    }
   ],
   "source": [
    "print app_train.shape\n",
    "print app_test.shape"
   ]
  },
  {
   "cell_type": "markdown",
   "metadata": {},
   "source": [
    "### Data alignment"
   ]
  },
  {
   "cell_type": "code",
   "execution_count": 26,
   "metadata": {},
   "outputs": [],
   "source": [
    "train_targets = app_train['TARGET']\n",
    "\n",
    "# Align the training and testing data, keep only columns present in both dataframes\n",
    "app_train, app_test = app_train.align(app_test, join = 'inner', axis = 1)\n",
    "\n",
    "# Recover the target variable that was dropped during the alignment\n",
    "app_train['TARGET'] = train_targets"
   ]
  },
  {
   "cell_type": "code",
   "execution_count": 27,
   "metadata": {},
   "outputs": [],
   "source": [
    "features = app_train.columns[1:245].values"
   ]
  },
  {
   "cell_type": "markdown",
   "metadata": {},
   "source": [
    "### Outliers"
   ]
  },
  {
   "cell_type": "code",
   "execution_count": 28,
   "metadata": {},
   "outputs": [
    {
     "data": {
      "text/plain": [
       "count   307511.0000\n",
       "mean    -16036.9951\n",
       "std       4363.9886\n",
       "min     -25229.0000\n",
       "25%     -19682.0000\n",
       "50%     -15750.0000\n",
       "75%     -12413.0000\n",
       "max      -7489.0000\n",
       "Name: DAYS_BIRTH, dtype: float64"
      ]
     },
     "execution_count": 28,
     "metadata": {},
     "output_type": "execute_result"
    }
   ],
   "source": [
    "app_train['DAYS_BIRTH'].describe()"
   ]
  },
  {
   "cell_type": "code",
   "execution_count": 29,
   "metadata": {},
   "outputs": [
    {
     "data": {
      "text/plain": [
       "count   307511.0000\n",
       "mean     63815.0459\n",
       "std     141275.7665\n",
       "min     -17912.0000\n",
       "25%      -2760.0000\n",
       "50%      -1213.0000\n",
       "75%       -289.0000\n",
       "max     365243.0000\n",
       "Name: DAYS_EMPLOYED, dtype: float64"
      ]
     },
     "execution_count": 29,
     "metadata": {},
     "output_type": "execute_result"
    }
   ],
   "source": [
    "app_train['DAYS_EMPLOYED'].describe()"
   ]
  },
  {
   "cell_type": "code",
   "execution_count": 30,
   "metadata": {},
   "outputs": [
    {
     "data": {
      "image/png": "[encoded data removed]",
      "text/plain": [
       "<Figure size 576x432 with 1 Axes>"
      ]
     },
     "metadata": {},
     "output_type": "display_data"
    }
   ],
   "source": [
    "app_train['DAYS_EMPLOYED'].plot.hist(figsize=(8,6));\n",
    "plt.xlabel('Days Employment');"
   ]
  },
  {
   "cell_type": "code",
   "execution_count": 31,
   "metadata": {},
   "outputs": [
    {
     "name": "stdout",
     "output_type": "stream",
     "text": [
      "There are 55374 anomalous days of employment\n"
     ]
    }
   ],
   "source": [
    "anomaly = app_train[app_train['DAYS_EMPLOYED'] >= 300000]\n",
    "print('There are %d anomalous days of employment' % len(anomaly))"
   ]
  },
  {
   "cell_type": "code",
   "execution_count": 32,
   "metadata": {},
   "outputs": [],
   "source": [
    "app_train['DAYS_EMPLOYED_OLD'] = app_train[\"DAYS_EMPLOYED\"]\n",
    "\n",
    "app_train['DAYS_EMPLOYED_OUTL'] = app_train[\"DAYS_EMPLOYED\"] >= 300000\n",
    "app_train.at[app_train['DAYS_EMPLOYED_OUTL']==True,'DAYS_EMPLOYED'] = np.nan\n",
    "\n",
    "app_test['DAYS_EMPLOYED_OUTL'] = app_test[\"DAYS_EMPLOYED\"] >= 300000\n",
    "app_test.at[app_test['DAYS_EMPLOYED_OUTL']==True,'DAYS_EMPLOYED'] = np.nan\n",
    "\n",
    "label_encoder = LabelEncoder()\n",
    "label_encoder.fit(app_train['DAYS_EMPLOYED_OUTL'])\n",
    "app_train['DAYS_EMPLOYED_OUTL'] = label_encoder.transform(app_train['DAYS_EMPLOYED_OUTL'])\n",
    "app_test['DAYS_EMPLOYED_OUTL'] = label_encoder.transform(app_test['DAYS_EMPLOYED_OUTL'])\n",
    "\n"
   ]
  },
  {
   "cell_type": "code",
   "execution_count": 33,
   "metadata": {},
   "outputs": [],
   "source": [
    "features = np.append(features,'DAYS_EMPLOYED_OUTL')"
   ]
  },
  {
   "cell_type": "code",
   "execution_count": 34,
   "metadata": {},
   "outputs": [
    {
     "data": {
      "text/plain": [
       "<matplotlib.axes._subplots.AxesSubplot at 0x23efce48>"
      ]
     },
     "execution_count": 34,
     "metadata": {},
     "output_type": "execute_result"
    },
    {
     "data": {
      "image/png": "[encoded data removed]",
      "text/plain": [
       "<Figure size 1080x432 with 2 Axes>"
      ]
     },
     "metadata": {},
     "output_type": "display_data"
    }
   ],
   "source": [
    "fig, ax = plt.subplots(nrows=1, ncols=2,figsize=(15,6))\n",
    "\n",
    "app_train['DAYS_EMPLOYED_OLD'].plot.hist(ax=ax[0],title=\"Before outlier removal\");\n",
    "app_train['DAYS_EMPLOYED'].plot.hist(ax=ax[1],title=\"After outlier removal\")\n"
   ]
  },
  {
   "cell_type": "code",
   "execution_count": 35,
   "metadata": {},
   "outputs": [],
   "source": [
    "app_train = app_train.drop(columns=['DAYS_EMPLOYED_OLD'])"
   ]
  },
  {
   "cell_type": "markdown",
   "metadata": {},
   "source": [
    "### Dealing with missing data"
   ]
  },
  {
   "cell_type": "code",
   "execution_count": 36,
   "metadata": {},
   "outputs": [],
   "source": [
    "app_train_no_null = app_train.copy()\n",
    "\n",
    "null_feat = (features for features in numerical_features \\\n",
    "                 if app_train_no_null.loc[app_train_no_null[features].isnull(),[features]].shape[0]>0)\n",
    "for feat in null_feat:\n",
    "    app_train_no_null.at[app_train_no_null[feat].isnull(),[feat]] = np.nanmedian(app_train_no_null[feat])\n"
   ]
  },
  {
   "cell_type": "code",
   "execution_count": 37,
   "metadata": {},
   "outputs": [],
   "source": [
    "app_test_no_null = app_test.copy()\n",
    "\n",
    "null_feat = (features for features in numerical_features \\\n",
    "                 if app_test_no_null.loc[app_test_no_null[features].isnull(),[features]].shape[0]>0)\n",
    "for feat in null_feat:\n",
    "    app_test_no_null.at[app_test_no_null[feat].isnull(),[feat]] = np.nanmedian(app_test_no_null[feat])\n"
   ]
  },
  {
   "cell_type": "markdown",
   "metadata": {},
   "source": [
    "### basic functions"
   ]
  },
  {
   "cell_type": "code",
   "execution_count": 38,
   "metadata": {},
   "outputs": [],
   "source": [
    "def save_results_to_submit(predictions,id=[],filename=None):\n",
    "    sk_id_curr = None\n",
    "    if len(id)==0:\n",
    "        sk_id_curr = app_test['SK_ID_CURR'].values\n",
    "    else:\n",
    "        sk_id_curr = id\n",
    "        \n",
    "    submission_result = pd.DataFrame({'SK_ID_CURR' : sk_id_curr ,'TARGET' : predictions})\n",
    "    submission_result[submission_result['TARGET']==0]\n",
    "    if filename != None:\n",
    "        submission_result.to_csv(filename,index=False)\n",
    "        print(\"predictions saved : {}\".format(filename))"
   ]
  },
  {
   "cell_type": "code",
   "execution_count": 39,
   "metadata": {},
   "outputs": [],
   "source": [
    "def train_test_classifier(train_df,features,clf,test_size=0.25):\n",
    "    time_start = time.time()\n",
    "\n",
    "    X = train_df[features]\n",
    "    Y = train_df['TARGET']\n",
    "\n",
    "    X_train, X_test, y_train, y_test = train_test_split(X, Y, test_size = test_size,random_state = 50)\n",
    "    clf.fit(X_train,y_train)\n",
    "\n",
    "    prediction = clf.predict(X_test)\n",
    "    #score = cross_val_score(base_model, X, Y, scoring='roc_auc', cv = 10)\n",
    "\n",
    "    print('Model trained in {} seconds'.format(time.time()-time_start))\n",
    "    #print('AUC of Random Forest is : {} '.format(np.mean(score)))\n",
    "    print('Validation AUC score of {:.4f}.').format(roc_auc_score(y_true=y_test,y_score=prediction))\n",
    "    \n",
    "    return clf, X_train, X_test, y_train, y_test, prediction"
   ]
  },
  {
   "cell_type": "code",
   "execution_count": 51,
   "metadata": {},
   "outputs": [],
   "source": [
    "def plot_roc_curve(fprs, tprs):\n",
    "    \"\"\"Plot the Receiver Operating Characteristic from a list\n",
    "    of true positive rates and false positive rates.\"\"\"\n",
    "    \n",
    "    # Initialize useful lists + the plot axes.\n",
    "    tprs_interp = []\n",
    "    aucs = []\n",
    "    mean_fpr = np.linspace(0, 1, 100)\n",
    "    f, ax = plt.subplots(figsize=(12,8))\n",
    "    \n",
    "    # Plot ROC for each K-Fold + compute AUC scores.\n",
    "    for i, (fpr, tpr) in enumerate(zip(fprs, tprs)):\n",
    "        tprs_interp.append(np.interp(mean_fpr, fpr, tpr))\n",
    "        tprs_interp[-1][0] = 0.0\n",
    "        roc_auc = auc(fpr, tpr)\n",
    "        aucs.append(roc_auc)\n",
    "        ax.plot(fpr, tpr, lw=1, alpha=0.3,\n",
    "                 label='ROC fold %d (AUC = %0.2f)' % (i, roc_auc))\n",
    "        \n",
    "    # Plot the luck line.\n",
    "    plt.plot([0, 1], [0, 1], linestyle='--', lw=2, color='r',\n",
    "             label='Luck', alpha=.8)\n",
    "    \n",
    "    # Plot the mean ROC.\n",
    "    mean_tpr = np.mean(tprs_interp, axis=0)\n",
    "    mean_tpr[-1] = 1.0\n",
    "    mean_auc = auc(mean_fpr, mean_tpr)\n",
    "    std_auc = np.std(aucs)\n",
    "    ax.plot(mean_fpr, mean_tpr, color='b',\n",
    "             label=r'Mean ROC (AUC = %0.2f $\\pm$ %0.2f)' % (mean_auc, std_auc),\n",
    "             lw=2, alpha=.8)\n",
    "    \n",
    "    # Plot the standard deviation around the mean ROC.\n",
    "    std_tpr = np.std(tprs_interp, axis=0)\n",
    "    tprs_upper = np.minimum(mean_tpr + std_tpr, 1)\n",
    "    tprs_lower = np.maximum(mean_tpr - std_tpr, 0)\n",
    "    ax.fill_between(mean_fpr, tprs_lower, tprs_upper, color='grey', alpha=.2,\n",
    "                     label=r'$\\pm$ 1 std. dev.')\n",
    "    \n",
    "    # Fine tune and show the plot.\n",
    "    ax.set_xlim([-0.05, 1.05])\n",
    "    ax.set_ylim([-0.05, 1.05])\n",
    "    ax.set_xlabel('False Positive Rate')\n",
    "    ax.set_ylabel('True Positive Rate')\n",
    "    ax.set_title('Receiver operating characteristic')\n",
    "    ax.legend(loc=\"lower right\")\n",
    "    plt.show()\n",
    "    return (f, ax)\n",
    "\n",
    "def compute_roc_auc(index,clf):\n",
    "    y_predict = clf.predict_proba(X.iloc[index])[:,1]\n",
    "    fpr, tpr, thresholds = roc_curve(y.iloc[index], y_predict)\n",
    "    auc_score = auc(fpr, tpr)\n",
    "    return fpr, tpr, auc_score\n",
    "\n",
    "def train_test_cv(clf,X,y):\n",
    "    time_start = time.time()\n",
    "    \n",
    "    cv = StratifiedKFold(n_splits=5, random_state=123, shuffle=True)\n",
    "    results = pd.DataFrame(columns=['training_score', 'test_score'])\n",
    "    fprs, tprs, scores = [], [], []\n",
    "\n",
    "    for (train, test), i in zip(cv.split(X, y), range(5)):\n",
    "        clf.fit(X.iloc[train], y.iloc[train])\n",
    "        _, _, auc_score_train = compute_roc_auc(train,clf)\n",
    "        fpr, tpr, auc_score = compute_roc_auc(test,clf)\n",
    "        scores.append((auc_score_train, auc_score))\n",
    "        fprs.append(fpr)\n",
    "        tprs.append(tpr)\n",
    "        \n",
    "    print('Model trained in {} seconds'.format(time.time()-time_start))\n",
    "        \n",
    "    return clf,fprs, tprs,pd.DataFrame(scores, columns=['AUC Train', 'AUC Test'])\n"
   ]
  },
  {
   "cell_type": "markdown",
   "metadata": {},
   "source": [
    "### Training the baseline model"
   ]
  },
  {
   "cell_type": "code",
   "execution_count": 92,
   "metadata": {},
   "outputs": [
    {
     "name": "stdout",
     "output_type": "stream",
     "text": [
      "Model trained in 76.9014289379 seconds\n"
     ]
    },
    {
     "data": {
      "text/html": [
       "<div>\n",
       "<style scoped>\n",
       "    .dataframe tbody tr th:only-of-type {\n",
       "        vertical-align: middle;\n",
       "    }\n",
       "\n",
       "    .dataframe tbody tr th {\n",
       "        vertical-align: top;\n",
       "    }\n",
       "\n",
       "    .dataframe thead th {\n",
       "        text-align: right;\n",
       "    }\n",
       "</style>\n",
       "<table border=\"1\" class=\"dataframe\">\n",
       "  <thead>\n",
       "    <tr style=\"text-align: right;\">\n",
       "      <th></th>\n",
       "      <th>AUC Train</th>\n",
       "      <th>AUC Test</th>\n",
       "    </tr>\n",
       "  </thead>\n",
       "  <tbody>\n",
       "    <tr>\n",
       "      <th>0</th>\n",
       "      <td>0.9998</td>\n",
       "      <td>0.6253</td>\n",
       "    </tr>\n",
       "    <tr>\n",
       "      <th>1</th>\n",
       "      <td>0.9998</td>\n",
       "      <td>0.6310</td>\n",
       "    </tr>\n",
       "    <tr>\n",
       "      <th>2</th>\n",
       "      <td>0.9998</td>\n",
       "      <td>0.6378</td>\n",
       "    </tr>\n",
       "    <tr>\n",
       "      <th>3</th>\n",
       "      <td>0.9998</td>\n",
       "      <td>0.6344</td>\n",
       "    </tr>\n",
       "    <tr>\n",
       "      <th>4</th>\n",
       "      <td>0.9998</td>\n",
       "      <td>0.6303</td>\n",
       "    </tr>\n",
       "  </tbody>\n",
       "</table>\n",
       "</div>"
      ],
      "text/plain": [
       "   AUC Train  AUC Test\n",
       "0     0.9998    0.6253\n",
       "1     0.9998    0.6310\n",
       "2     0.9998    0.6378\n",
       "3     0.9998    0.6344\n",
       "4     0.9998    0.6303"
      ]
     },
     "execution_count": 92,
     "metadata": {},
     "output_type": "execute_result"
    }
   ],
   "source": [
    "X = app_train_no_null[features]\n",
    "y = app_train_no_null['TARGET']\n",
    "base_model_rfcv = RandomForestClassifier(random_state = 50)\n",
    "base_model_rfcv , fprs_rfcv, tprs_rfcv, results_rfcv = train_test_cv(base_model_rfcv,X,y)\n",
    "results_rfcv"
   ]
  },
  {
   "cell_type": "code",
   "execution_count": 99,
   "metadata": {},
   "outputs": [
    {
     "data": {
      "text/plain": [
       "AUC Train   0.9998\n",
       "AUC Test    0.6318\n",
       "dtype: float64"
      ]
     },
     "execution_count": 99,
     "metadata": {},
     "output_type": "execute_result"
    }
   ],
   "source": [
    "results_rfcv.mean()"
   ]
  },
  {
   "cell_type": "code",
   "execution_count": 95,
   "metadata": {},
   "outputs": [
    {
     "name": "stdout",
     "output_type": "stream",
     "text": [
      "predictions saved : random_forest_base_cv.csv\n"
     ]
    }
   ],
   "source": [
    "pred_basemodel_rfcv = base_model_rfcv.predict_proba(app_test_no_null[features])[:, 1]\n",
    "save_results_to_submit(pred_basemodel_rfcv,filename=\"random_forest_base_cv.csv\")"
   ]
  },
  {
   "cell_type": "markdown",
   "metadata": {},
   "source": [
    "### XGBOOST with NaN values"
   ]
  },
  {
   "cell_type": "code",
   "execution_count": 96,
   "metadata": {},
   "outputs": [
    {
     "name": "stdout",
     "output_type": "stream",
     "text": [
      "Model trained in 707.351706028 seconds\n"
     ]
    },
    {
     "data": {
      "text/html": [
       "<div>\n",
       "<style scoped>\n",
       "    .dataframe tbody tr th:only-of-type {\n",
       "        vertical-align: middle;\n",
       "    }\n",
       "\n",
       "    .dataframe tbody tr th {\n",
       "        vertical-align: top;\n",
       "    }\n",
       "\n",
       "    .dataframe thead th {\n",
       "        text-align: right;\n",
       "    }\n",
       "</style>\n",
       "<table border=\"1\" class=\"dataframe\">\n",
       "  <thead>\n",
       "    <tr style=\"text-align: right;\">\n",
       "      <th></th>\n",
       "      <th>AUC Train</th>\n",
       "      <th>AUC Test</th>\n",
       "    </tr>\n",
       "  </thead>\n",
       "  <tbody>\n",
       "    <tr>\n",
       "      <th>0</th>\n",
       "      <td>0.7596</td>\n",
       "      <td>0.7502</td>\n",
       "    </tr>\n",
       "    <tr>\n",
       "      <th>1</th>\n",
       "      <td>0.7602</td>\n",
       "      <td>0.7483</td>\n",
       "    </tr>\n",
       "    <tr>\n",
       "      <th>2</th>\n",
       "      <td>0.7590</td>\n",
       "      <td>0.7541</td>\n",
       "    </tr>\n",
       "    <tr>\n",
       "      <th>3</th>\n",
       "      <td>0.7600</td>\n",
       "      <td>0.7511</td>\n",
       "    </tr>\n",
       "    <tr>\n",
       "      <th>4</th>\n",
       "      <td>0.7601</td>\n",
       "      <td>0.7526</td>\n",
       "    </tr>\n",
       "  </tbody>\n",
       "</table>\n",
       "</div>"
      ],
      "text/plain": [
       "   AUC Train  AUC Test\n",
       "0     0.7596    0.7502\n",
       "1     0.7602    0.7483\n",
       "2     0.7590    0.7541\n",
       "3     0.7600    0.7511\n",
       "4     0.7601    0.7526"
      ]
     },
     "execution_count": 96,
     "metadata": {},
     "output_type": "execute_result"
    }
   ],
   "source": [
    "X = app_train[features]\n",
    "y = app_train['TARGET']\n",
    "xgboost_cv = XGBClassifier(random_state=50)\n",
    "xgboost_cv , fprs_xgb, tprs_xgb_xgb, results_xgb = train_test_cv(xgboost_cv,X,y)\n",
    "results_xgb"
   ]
  },
  {
   "cell_type": "code",
   "execution_count": 100,
   "metadata": {},
   "outputs": [
    {
     "data": {
      "text/plain": [
       "AUC Train   0.7598\n",
       "AUC Test    0.7513\n",
       "dtype: float64"
      ]
     },
     "execution_count": 100,
     "metadata": {},
     "output_type": "execute_result"
    }
   ],
   "source": [
    "results_xgb.mean()"
   ]
  },
  {
   "cell_type": "code",
   "execution_count": 97,
   "metadata": {},
   "outputs": [
    {
     "name": "stdout",
     "output_type": "stream",
     "text": [
      "predictions saved : xgboost_cv.csv\n"
     ]
    }
   ],
   "source": [
    "pred_xgboost_cv = xgboost_cv.predict_proba(app_test[features])[:, 1]\n",
    "save_results_to_submit(pred_xgboost_cv,filename=\"xgboost_cv.csv\")"
   ]
  },
  {
   "cell_type": "markdown",
   "metadata": {},
   "source": [
    "### Optimization : Grid search"
   ]
  },
  {
   "cell_type": "markdown",
   "metadata": {},
   "source": [
    "#### 1. Random Forest Optimization"
   ]
  },
  {
   "cell_type": "code",
   "execution_count": 101,
   "metadata": {
    "scrolled": false
   },
   "outputs": [
    {
     "name": "stdout",
     "output_type": "stream",
     "text": [
      "Fitting 3 folds for each of 18 candidates, totalling 54 fits\n",
      "[CV] n_estimators=50, max_depth=None, min_samples_leaf=1 .............\n",
      "[CV] n_estimators=50, max_depth=None, min_samples_leaf=1 .............\n",
      "[CV] n_estimators=50, max_depth=None, min_samples_leaf=1 .............\n",
      "[CV]  n_estimators=50, max_depth=None, min_samples_leaf=1, score=0.691274 - 1.1min\n",
      "[CV] n_estimators=100, max_depth=None, min_samples_leaf=1 ............\n",
      "[CV]  n_estimators=50, max_depth=None, min_samples_leaf=1, score=0.695992 - 1.5min\n",
      "[CV] n_estimators=100, max_depth=None, min_samples_leaf=1 ............\n"
     ]
    },
    {
     "name": "stderr",
     "output_type": "stream",
     "text": [
      "[Parallel(n_jobs=3)]: Done   2 tasks      | elapsed:  1.5min\n"
     ]
    },
    {
     "name": "stdout",
     "output_type": "stream",
     "text": [
      "[CV]  n_estimators=50, max_depth=None, min_samples_leaf=1, score=0.693184 - 1.5min\n",
      "[CV] n_estimators=100, max_depth=None, min_samples_leaf=1 ............\n",
      "[CV]  n_estimators=100, max_depth=None, min_samples_leaf=1, score=0.710908 - 2.7min\n",
      "[CV] n_estimators=200, max_depth=None, min_samples_leaf=1 ............\n",
      "[CV]  n_estimators=100, max_depth=None, min_samples_leaf=1, score=0.708976 - 2.7min\n",
      "[CV] n_estimators=200, max_depth=None, min_samples_leaf=1 ............\n",
      "[CV]  n_estimators=100, max_depth=None, min_samples_leaf=1, score=0.707526 - 3.1min\n",
      "[CV] n_estimators=200, max_depth=None, min_samples_leaf=1 ............\n",
      "[CV]  n_estimators=200, max_depth=None, min_samples_leaf=1, score=0.715522 - 5.5min\n",
      "[CV] n_estimators=50, max_depth=None, min_samples_leaf=4 .............\n"
     ]
    },
    {
     "name": "stderr",
     "output_type": "stream",
     "text": [
      "[Parallel(n_jobs=3)]: Done   7 tasks      | elapsed:  9.8min\n"
     ]
    },
    {
     "name": "stdout",
     "output_type": "stream",
     "text": [
      "[CV]  n_estimators=200, max_depth=None, min_samples_leaf=1, score=0.720345 - 5.9min\n",
      "[CV] n_estimators=50, max_depth=None, min_samples_leaf=4 .............\n",
      "[CV]  n_estimators=200, max_depth=None, min_samples_leaf=1, score=0.716560 - 5.2min\n",
      "[CV] n_estimators=50, max_depth=None, min_samples_leaf=4 .............\n",
      "[CV]  n_estimators=50, max_depth=None, min_samples_leaf=4, score=0.714629 -  56.4s\n",
      "[CV] n_estimators=100, max_depth=None, min_samples_leaf=4 ............\n",
      "[CV]  n_estimators=50, max_depth=None, min_samples_leaf=4, score=0.719763 - 1.2min\n",
      "[CV] n_estimators=100, max_depth=None, min_samples_leaf=4 ............\n",
      "[CV]  n_estimators=50, max_depth=None, min_samples_leaf=4, score=0.715816 - 1.3min\n",
      "[CV] n_estimators=100, max_depth=None, min_samples_leaf=4 ............\n"
     ]
    },
    {
     "name": "stderr",
     "output_type": "stream",
     "text": [
      "[Parallel(n_jobs=3)]: Done  12 tasks      | elapsed: 11.2min\n"
     ]
    },
    {
     "name": "stdout",
     "output_type": "stream",
     "text": [
      "[CV]  n_estimators=100, max_depth=None, min_samples_leaf=4, score=0.725225 - 1.8min\n",
      "[CV] n_estimators=200, max_depth=None, min_samples_leaf=4 ............\n",
      "[CV]  n_estimators=100, max_depth=None, min_samples_leaf=4, score=0.729444 - 2.7min\n",
      "[CV] n_estimators=200, max_depth=None, min_samples_leaf=4 ............\n",
      "[CV]  n_estimators=100, max_depth=None, min_samples_leaf=4, score=0.725619 - 2.6min\n",
      "[CV] n_estimators=200, max_depth=None, min_samples_leaf=4 ............\n",
      "[CV]  n_estimators=200, max_depth=None, min_samples_leaf=4, score=0.734246 - 4.3min\n",
      "[CV] n_estimators=50, max_depth=10, min_samples_leaf=1 ...............\n",
      "[CV]  n_estimators=50, max_depth=10, min_samples_leaf=1, score=0.729457 -  37.8s\n",
      "[CV] n_estimators=50, max_depth=10, min_samples_leaf=1 ...............\n",
      "[CV]  n_estimators=200, max_depth=None, min_samples_leaf=4, score=0.729961 - 4.8min\n",
      "[CV] n_estimators=50, max_depth=10, min_samples_leaf=1 ...............\n",
      "[CV]  n_estimators=200, max_depth=None, min_samples_leaf=4, score=0.730247 - 4.6min\n",
      "[CV] n_estimators=100, max_depth=10, min_samples_leaf=1 ..............\n"
     ]
    },
    {
     "name": "stderr",
     "output_type": "stream",
     "text": [
      "[Parallel(n_jobs=3)]: Done  19 tasks      | elapsed: 18.4min\n"
     ]
    },
    {
     "name": "stdout",
     "output_type": "stream",
     "text": [
      "[CV]  n_estimators=50, max_depth=10, min_samples_leaf=1, score=0.726218 -  38.3s\n",
      "[CV] n_estimators=100, max_depth=10, min_samples_leaf=1 ..............\n",
      "[CV]  n_estimators=50, max_depth=10, min_samples_leaf=1, score=0.727620 -  26.7s\n",
      "[CV] n_estimators=100, max_depth=10, min_samples_leaf=1 ..............\n",
      "[CV]  n_estimators=100, max_depth=10, min_samples_leaf=1, score=0.731667 -  59.0s\n",
      "[CV] n_estimators=200, max_depth=10, min_samples_leaf=1 ..............\n",
      "[CV]  n_estimators=100, max_depth=10, min_samples_leaf=1, score=0.729152 - 1.2min\n",
      "[CV] n_estimators=200, max_depth=10, min_samples_leaf=1 ..............\n",
      "[CV]  n_estimators=100, max_depth=10, min_samples_leaf=1, score=0.730563 - 1.2min\n",
      "[CV] n_estimators=200, max_depth=10, min_samples_leaf=1 ..............\n",
      "[CV]  n_estimators=200, max_depth=10, min_samples_leaf=1, score=0.731305 - 1.8min\n",
      "[CV] n_estimators=50, max_depth=10, min_samples_leaf=4 ...............\n",
      "[CV]  n_estimators=200, max_depth=10, min_samples_leaf=1, score=0.732612 - 2.2min\n",
      "[CV] n_estimators=50, max_depth=10, min_samples_leaf=4 ...............\n"
     ]
    },
    {
     "name": "stderr",
     "output_type": "stream",
     "text": [
      "[Parallel(n_jobs=3)]: Done  26 tasks      | elapsed: 21.5min\n"
     ]
    },
    {
     "name": "stdout",
     "output_type": "stream",
     "text": [
      "[CV]  n_estimators=50, max_depth=10, min_samples_leaf=4, score=0.729376 -  26.0s\n",
      "[CV] n_estimators=50, max_depth=10, min_samples_leaf=4 ...............\n",
      "[CV]  n_estimators=50, max_depth=10, min_samples_leaf=4, score=0.729937 -  40.0s\n",
      "[CV] n_estimators=100, max_depth=10, min_samples_leaf=4 ..............\n",
      "[CV]  n_estimators=200, max_depth=10, min_samples_leaf=1, score=0.732337 - 2.4min\n",
      "[CV] n_estimators=100, max_depth=10, min_samples_leaf=4 ..............\n",
      "[CV]  n_estimators=50, max_depth=10, min_samples_leaf=4, score=0.727066 -  31.6s\n",
      "[CV] n_estimators=100, max_depth=10, min_samples_leaf=4 ..............\n",
      "[CV]  n_estimators=100, max_depth=10, min_samples_leaf=4, score=0.730618 -  49.6s\n",
      "[CV] n_estimators=200, max_depth=10, min_samples_leaf=4 ..............\n",
      "[CV]  n_estimators=100, max_depth=10, min_samples_leaf=4, score=0.732054 - 1.2min\n",
      "[CV] n_estimators=200, max_depth=10, min_samples_leaf=4 ..............\n",
      "[CV]  n_estimators=100, max_depth=10, min_samples_leaf=4, score=0.731173 - 1.3min\n",
      "[CV] n_estimators=200, max_depth=10, min_samples_leaf=4 ..............\n",
      "[CV]  n_estimators=200, max_depth=10, min_samples_leaf=4, score=0.733918 - 1.6min\n",
      "[CV] n_estimators=50, max_depth=50, min_samples_leaf=1 ...............\n",
      "[CV]  n_estimators=200, max_depth=10, min_samples_leaf=4, score=0.732713 - 2.2min\n",
      "[CV] n_estimators=50, max_depth=50, min_samples_leaf=1 ...............\n"
     ]
    },
    {
     "name": "stderr",
     "output_type": "stream",
     "text": [
      "[Parallel(n_jobs=3)]: Done  35 tasks      | elapsed: 25.5min\n"
     ]
    },
    {
     "name": "stdout",
     "output_type": "stream",
     "text": [
      "[CV]  n_estimators=200, max_depth=10, min_samples_leaf=4, score=0.732386 - 2.4min\n",
      "[CV] n_estimators=50, max_depth=50, min_samples_leaf=1 ...............\n",
      "[CV]  n_estimators=50, max_depth=50, min_samples_leaf=1, score=0.699971 - 1.6min\n",
      "[CV] n_estimators=100, max_depth=50, min_samples_leaf=1 ..............\n",
      "[CV]  n_estimators=50, max_depth=50, min_samples_leaf=1, score=0.691451 - 1.0min\n",
      "[CV] n_estimators=100, max_depth=50, min_samples_leaf=1 ..............\n",
      "[CV]  n_estimators=50, max_depth=50, min_samples_leaf=1, score=0.690869 - 1.5min\n",
      "[CV] n_estimators=100, max_depth=50, min_samples_leaf=1 ..............\n",
      "[CV]  n_estimators=100, max_depth=50, min_samples_leaf=1, score=0.713839 - 2.1min\n",
      "[CV] n_estimators=200, max_depth=50, min_samples_leaf=1 ..............\n",
      "[CV]  n_estimators=100, max_depth=50, min_samples_leaf=1, score=0.705963 - 3.1min\n",
      "[CV] n_estimators=200, max_depth=50, min_samples_leaf=1 ..............\n",
      "[CV]  n_estimators=100, max_depth=50, min_samples_leaf=1, score=0.708104 - 3.1min\n",
      "[CV] n_estimators=200, max_depth=50, min_samples_leaf=1 ..............\n",
      "[CV]  n_estimators=200, max_depth=50, min_samples_leaf=1, score=0.720794 - 4.3min\n",
      "[CV] n_estimators=50, max_depth=50, min_samples_leaf=4 ...............\n",
      "[CV]  n_estimators=50, max_depth=50, min_samples_leaf=4, score=0.720142 -  53.1s\n",
      "[CV] n_estimators=50, max_depth=50, min_samples_leaf=4 ...............\n"
     ]
    },
    {
     "name": "stderr",
     "output_type": "stream",
     "text": [
      "[Parallel(n_jobs=3)]: Done  44 tasks      | elapsed: 33.7min\n"
     ]
    },
    {
     "name": "stdout",
     "output_type": "stream",
     "text": [
      "[CV]  n_estimators=50, max_depth=50, min_samples_leaf=4, score=0.717057 - 1.1min\n",
      "[CV] n_estimators=50, max_depth=50, min_samples_leaf=4 ...............\n",
      "[CV]  n_estimators=200, max_depth=50, min_samples_leaf=1, score=0.717056 - 5.3min\n",
      "[CV] n_estimators=100, max_depth=50, min_samples_leaf=4 ..............\n",
      "[CV]  n_estimators=200, max_depth=50, min_samples_leaf=1, score=0.714445 - 5.6min\n",
      "[CV] n_estimators=100, max_depth=50, min_samples_leaf=4 ..............\n",
      "[CV]  n_estimators=50, max_depth=50, min_samples_leaf=4, score=0.716525 - 1.3min\n",
      "[CV] n_estimators=100, max_depth=50, min_samples_leaf=4 ..............\n",
      "[CV]  n_estimators=100, max_depth=50, min_samples_leaf=4, score=0.729019 - 2.5min\n",
      "[CV] n_estimators=200, max_depth=50, min_samples_leaf=4 ..............\n",
      "[CV]  n_estimators=100, max_depth=50, min_samples_leaf=4, score=0.725657 - 2.4min\n",
      "[CV] n_estimators=200, max_depth=50, min_samples_leaf=4 ..............\n",
      "[CV]  n_estimators=100, max_depth=50, min_samples_leaf=4, score=0.726536 - 2.4min\n",
      "[CV] n_estimators=200, max_depth=50, min_samples_leaf=4 ..............\n",
      "[CV]  n_estimators=200, max_depth=50, min_samples_leaf=4, score=0.730290 - 4.3min\n",
      "[CV]  n_estimators=200, max_depth=50, min_samples_leaf=4, score=0.730971 - 4.4min\n",
      "[CV]  n_estimators=200, max_depth=50, min_samples_leaf=4, score=0.733827 - 5.1min\n"
     ]
    },
    {
     "name": "stderr",
     "output_type": "stream",
     "text": [
      "[Parallel(n_jobs=3)]: Done  54 out of  54 | elapsed: 43.0min finished\n"
     ]
    },
    {
     "name": "stdout",
     "output_type": "stream",
     "text": [
      "Tuned model has a training AUC score of 0.5000.\n",
      "Grid search took 2711.55967283 seconds to run\n"
     ]
    }
   ],
   "source": [
    "time_start = time.time()\n",
    "\n",
    "# Create hyperparameter options\n",
    "parameters = {'max_depth': [None,10, 50],\n",
    "              'min_samples_leaf': [1, 4],\n",
    "              'n_estimators': [50, 100, 200]}\n",
    "\n",
    "X = app_train_no_null[features]\n",
    "Y = app_train_no_null['TARGET']\n",
    "base_model = RandomForestClassifier(random_state=50)\n",
    "\n",
    "grid_obj = GridSearchCV(estimator=base_model,\n",
    "                        param_grid=parameters,\n",
    "                        scoring='roc_auc',\n",
    "                        verbose=10,\n",
    "                        n_jobs=3)\n",
    "\n",
    "grid_obj = grid_obj.fit(X, Y)\n",
    "\n",
    "best_rf = grid_obj.best_estimator_\n",
    "y_train_rf_opt = best_rf.predict(app_train_no_null[features])\n",
    "\n",
    "print('Tuned model has a training AUC score of {:.4f}.').format(roc_auc_score(y_true=Y,y_score=y_train_rf_opt))\n",
    "print('Grid search took {} seconds to run'.format(time.time()-time_start))"
   ]
  },
  {
   "cell_type": "code",
   "execution_count": 102,
   "metadata": {},
   "outputs": [
    {
     "data": {
      "text/plain": [
       "0.7330057635012802"
      ]
     },
     "execution_count": 102,
     "metadata": {},
     "output_type": "execute_result"
    }
   ],
   "source": [
    "grid_obj.best_score_"
   ]
  },
  {
   "cell_type": "code",
   "execution_count": 103,
   "metadata": {},
   "outputs": [
    {
     "data": {
      "text/plain": [
       "{'max_depth': 10, 'min_samples_leaf': 4, 'n_estimators': 200}"
      ]
     },
     "execution_count": 103,
     "metadata": {},
     "output_type": "execute_result"
    }
   ],
   "source": [
    "grid_obj.best_params_"
   ]
  },
  {
   "cell_type": "markdown",
   "metadata": {},
   "source": [
    "#### 2. XGBoost optimization\n",
    "\n",
    "**OBS** : I don't recommend running this step again, it took more than 12 hours to run on a Amazon VM with 8 processors and 15gb RAM (c5d.2xlarge)."
   ]
  },
  {
   "cell_type": "code",
   "execution_count": 88,
   "metadata": {},
   "outputs": [
    {
     "name": "stdout",
     "output_type": "stream",
     "text": [
      "Fitting 3 folds for each of 30 candidates, totalling 90 fits\n"
     ]
    },
    {
     "name": "stderr",
     "output_type": "stream",
     "text": [
      "[Parallel(n_jobs=3)]: Done   2 tasks      | elapsed:  6.1min\n",
      "[Parallel(n_jobs=3)]: Done   7 tasks      | elapsed: 22.4min\n",
      "[Parallel(n_jobs=3)]: Done  12 tasks      | elapsed: 33.2min\n",
      "[Parallel(n_jobs=3)]: Done  19 tasks      | elapsed: 70.7min\n",
      "[Parallel(n_jobs=3)]: Done  26 tasks      | elapsed: 88.2min\n",
      "[Parallel(n_jobs=3)]: Done  35 tasks      | elapsed: 133.6min\n",
      "[Parallel(n_jobs=3)]: Done  44 tasks      | elapsed: 157.1min\n",
      "[Parallel(n_jobs=3)]: Done  55 tasks      | elapsed: 206.7min\n",
      "[Parallel(n_jobs=3)]: Done  66 tasks      | elapsed: 238.0min\n",
      "[Parallel(n_jobs=3)]: Done  79 tasks      | elapsed: 293.5min\n"
     ]
    },
    {
     "ename": "KeyboardInterrupt",
     "evalue": "",
     "output_type": "error",
     "traceback": [
      "\u001b[1;31m---------------------------------------------------------------------------\u001b[0m",
      "\u001b[1;31mKeyboardInterrupt\u001b[0m                         Traceback (most recent call last)",
      "\u001b[1;32m<ipython-input-88-6f34c2aac4ff>\u001b[0m in \u001b[0;36m<module>\u001b[1;34m()\u001b[0m\n\u001b[0;32m     12\u001b[0m                             param_grid = param_test1, scoring='roc_auc',n_jobs=3,iid=False, verbose=10)\n\u001b[0;32m     13\u001b[0m \u001b[1;33m\u001b[0m\u001b[0m\n\u001b[1;32m---> 14\u001b[1;33m \u001b[0mgsearch_xgb1\u001b[0m \u001b[1;33m=\u001b[0m \u001b[0mgsearch_xgb1\u001b[0m\u001b[1;33m.\u001b[0m\u001b[0mfit\u001b[0m\u001b[1;33m(\u001b[0m\u001b[0mX\u001b[0m\u001b[1;33m,\u001b[0m \u001b[0mY\u001b[0m\u001b[1;33m)\u001b[0m\u001b[1;33m\u001b[0m\u001b[0m\n\u001b[0m\u001b[0;32m     15\u001b[0m \u001b[0mbest_xgb\u001b[0m \u001b[1;33m=\u001b[0m \u001b[0mgsearch_xgb1\u001b[0m\u001b[1;33m.\u001b[0m\u001b[0mbest_estimator_\u001b[0m\u001b[1;33m\u001b[0m\u001b[0m\n\u001b[0;32m     16\u001b[0m \u001b[0my_train_xgb_opt1\u001b[0m \u001b[1;33m=\u001b[0m \u001b[0mbest_xgb\u001b[0m\u001b[1;33m.\u001b[0m\u001b[0mpredict\u001b[0m\u001b[1;33m(\u001b[0m\u001b[0mapp_train\u001b[0m\u001b[1;33m[\u001b[0m\u001b[0mfeatures\u001b[0m\u001b[1;33m]\u001b[0m\u001b[1;33m)\u001b[0m\u001b[1;33m\u001b[0m\u001b[0m\n",
      "\u001b[1;32mC:\\ProgramData\\Anaconda2\\lib\\site-packages\\sklearn\\grid_search.py\u001b[0m in \u001b[0;36mfit\u001b[1;34m(self, X, y)\u001b[0m\n\u001b[0;32m    836\u001b[0m \u001b[1;33m\u001b[0m\u001b[0m\n\u001b[0;32m    837\u001b[0m         \"\"\"\n\u001b[1;32m--> 838\u001b[1;33m         \u001b[1;32mreturn\u001b[0m \u001b[0mself\u001b[0m\u001b[1;33m.\u001b[0m\u001b[0m_fit\u001b[0m\u001b[1;33m(\u001b[0m\u001b[0mX\u001b[0m\u001b[1;33m,\u001b[0m \u001b[0my\u001b[0m\u001b[1;33m,\u001b[0m \u001b[0mParameterGrid\u001b[0m\u001b[1;33m(\u001b[0m\u001b[0mself\u001b[0m\u001b[1;33m.\u001b[0m\u001b[0mparam_grid\u001b[0m\u001b[1;33m)\u001b[0m\u001b[1;33m)\u001b[0m\u001b[1;33m\u001b[0m\u001b[0m\n\u001b[0m\u001b[0;32m    839\u001b[0m \u001b[1;33m\u001b[0m\u001b[0m\n\u001b[0;32m    840\u001b[0m \u001b[1;33m\u001b[0m\u001b[0m\n",
      "\u001b[1;32mC:\\ProgramData\\Anaconda2\\lib\\site-packages\\sklearn\\grid_search.py\u001b[0m in \u001b[0;36m_fit\u001b[1;34m(self, X, y, parameter_iterable)\u001b[0m\n\u001b[0;32m    572\u001b[0m                                     \u001b[0mself\u001b[0m\u001b[1;33m.\u001b[0m\u001b[0mfit_params\u001b[0m\u001b[1;33m,\u001b[0m \u001b[0mreturn_parameters\u001b[0m\u001b[1;33m=\u001b[0m\u001b[0mTrue\u001b[0m\u001b[1;33m,\u001b[0m\u001b[1;33m\u001b[0m\u001b[0m\n\u001b[0;32m    573\u001b[0m                                     error_score=self.error_score)\n\u001b[1;32m--> 574\u001b[1;33m                 \u001b[1;32mfor\u001b[0m \u001b[0mparameters\u001b[0m \u001b[1;32min\u001b[0m \u001b[0mparameter_iterable\u001b[0m\u001b[1;33m\u001b[0m\u001b[0m\n\u001b[0m\u001b[0;32m    575\u001b[0m                 for train, test in cv)\n\u001b[0;32m    576\u001b[0m \u001b[1;33m\u001b[0m\u001b[0m\n",
      "\u001b[1;32mC:\\ProgramData\\Anaconda2\\lib\\site-packages\\sklearn\\externals\\joblib\\parallel.py\u001b[0m in \u001b[0;36m__call__\u001b[1;34m(self, iterable)\u001b[0m\n\u001b[0;32m    787\u001b[0m                 \u001b[1;31m# consumption.\u001b[0m\u001b[1;33m\u001b[0m\u001b[1;33m\u001b[0m\u001b[0m\n\u001b[0;32m    788\u001b[0m                 \u001b[0mself\u001b[0m\u001b[1;33m.\u001b[0m\u001b[0m_iterating\u001b[0m \u001b[1;33m=\u001b[0m \u001b[0mFalse\u001b[0m\u001b[1;33m\u001b[0m\u001b[0m\n\u001b[1;32m--> 789\u001b[1;33m             \u001b[0mself\u001b[0m\u001b[1;33m.\u001b[0m\u001b[0mretrieve\u001b[0m\u001b[1;33m(\u001b[0m\u001b[1;33m)\u001b[0m\u001b[1;33m\u001b[0m\u001b[0m\n\u001b[0m\u001b[0;32m    790\u001b[0m             \u001b[1;31m# Make sure that we get a last message telling us we are done\u001b[0m\u001b[1;33m\u001b[0m\u001b[1;33m\u001b[0m\u001b[0m\n\u001b[0;32m    791\u001b[0m             \u001b[0melapsed_time\u001b[0m \u001b[1;33m=\u001b[0m \u001b[0mtime\u001b[0m\u001b[1;33m.\u001b[0m\u001b[0mtime\u001b[0m\u001b[1;33m(\u001b[0m\u001b[1;33m)\u001b[0m \u001b[1;33m-\u001b[0m \u001b[0mself\u001b[0m\u001b[1;33m.\u001b[0m\u001b[0m_start_time\u001b[0m\u001b[1;33m\u001b[0m\u001b[0m\n",
      "\u001b[1;32mC:\\ProgramData\\Anaconda2\\lib\\site-packages\\sklearn\\externals\\joblib\\parallel.py\u001b[0m in \u001b[0;36mretrieve\u001b[1;34m(self)\u001b[0m\n\u001b[0;32m    697\u001b[0m             \u001b[1;32mtry\u001b[0m\u001b[1;33m:\u001b[0m\u001b[1;33m\u001b[0m\u001b[0m\n\u001b[0;32m    698\u001b[0m                 \u001b[1;32mif\u001b[0m \u001b[0mgetattr\u001b[0m\u001b[1;33m(\u001b[0m\u001b[0mself\u001b[0m\u001b[1;33m.\u001b[0m\u001b[0m_backend\u001b[0m\u001b[1;33m,\u001b[0m \u001b[1;34m'supports_timeout'\u001b[0m\u001b[1;33m,\u001b[0m \u001b[0mFalse\u001b[0m\u001b[1;33m)\u001b[0m\u001b[1;33m:\u001b[0m\u001b[1;33m\u001b[0m\u001b[0m\n\u001b[1;32m--> 699\u001b[1;33m                     \u001b[0mself\u001b[0m\u001b[1;33m.\u001b[0m\u001b[0m_output\u001b[0m\u001b[1;33m.\u001b[0m\u001b[0mextend\u001b[0m\u001b[1;33m(\u001b[0m\u001b[0mjob\u001b[0m\u001b[1;33m.\u001b[0m\u001b[0mget\u001b[0m\u001b[1;33m(\u001b[0m\u001b[0mtimeout\u001b[0m\u001b[1;33m=\u001b[0m\u001b[0mself\u001b[0m\u001b[1;33m.\u001b[0m\u001b[0mtimeout\u001b[0m\u001b[1;33m)\u001b[0m\u001b[1;33m)\u001b[0m\u001b[1;33m\u001b[0m\u001b[0m\n\u001b[0m\u001b[0;32m    700\u001b[0m                 \u001b[1;32melse\u001b[0m\u001b[1;33m:\u001b[0m\u001b[1;33m\u001b[0m\u001b[0m\n\u001b[0;32m    701\u001b[0m                     \u001b[0mself\u001b[0m\u001b[1;33m.\u001b[0m\u001b[0m_output\u001b[0m\u001b[1;33m.\u001b[0m\u001b[0mextend\u001b[0m\u001b[1;33m(\u001b[0m\u001b[0mjob\u001b[0m\u001b[1;33m.\u001b[0m\u001b[0mget\u001b[0m\u001b[1;33m(\u001b[0m\u001b[1;33m)\u001b[0m\u001b[1;33m)\u001b[0m\u001b[1;33m\u001b[0m\u001b[0m\n",
      "\u001b[1;32mC:\\ProgramData\\Anaconda2\\lib\\multiprocessing\\pool.py\u001b[0m in \u001b[0;36mget\u001b[1;34m(self, timeout)\u001b[0m\n\u001b[0;32m    564\u001b[0m \u001b[1;33m\u001b[0m\u001b[0m\n\u001b[0;32m    565\u001b[0m     \u001b[1;32mdef\u001b[0m \u001b[0mget\u001b[0m\u001b[1;33m(\u001b[0m\u001b[0mself\u001b[0m\u001b[1;33m,\u001b[0m \u001b[0mtimeout\u001b[0m\u001b[1;33m=\u001b[0m\u001b[0mNone\u001b[0m\u001b[1;33m)\u001b[0m\u001b[1;33m:\u001b[0m\u001b[1;33m\u001b[0m\u001b[0m\n\u001b[1;32m--> 566\u001b[1;33m         \u001b[0mself\u001b[0m\u001b[1;33m.\u001b[0m\u001b[0mwait\u001b[0m\u001b[1;33m(\u001b[0m\u001b[0mtimeout\u001b[0m\u001b[1;33m)\u001b[0m\u001b[1;33m\u001b[0m\u001b[0m\n\u001b[0m\u001b[0;32m    567\u001b[0m         \u001b[1;32mif\u001b[0m \u001b[1;32mnot\u001b[0m \u001b[0mself\u001b[0m\u001b[1;33m.\u001b[0m\u001b[0m_ready\u001b[0m\u001b[1;33m:\u001b[0m\u001b[1;33m\u001b[0m\u001b[0m\n\u001b[0;32m    568\u001b[0m             \u001b[1;32mraise\u001b[0m \u001b[0mTimeoutError\u001b[0m\u001b[1;33m\u001b[0m\u001b[0m\n",
      "\u001b[1;32mC:\\ProgramData\\Anaconda2\\lib\\multiprocessing\\pool.py\u001b[0m in \u001b[0;36mwait\u001b[1;34m(self, timeout)\u001b[0m\n\u001b[0;32m    559\u001b[0m         \u001b[1;32mtry\u001b[0m\u001b[1;33m:\u001b[0m\u001b[1;33m\u001b[0m\u001b[0m\n\u001b[0;32m    560\u001b[0m             \u001b[1;32mif\u001b[0m \u001b[1;32mnot\u001b[0m \u001b[0mself\u001b[0m\u001b[1;33m.\u001b[0m\u001b[0m_ready\u001b[0m\u001b[1;33m:\u001b[0m\u001b[1;33m\u001b[0m\u001b[0m\n\u001b[1;32m--> 561\u001b[1;33m                 \u001b[0mself\u001b[0m\u001b[1;33m.\u001b[0m\u001b[0m_cond\u001b[0m\u001b[1;33m.\u001b[0m\u001b[0mwait\u001b[0m\u001b[1;33m(\u001b[0m\u001b[0mtimeout\u001b[0m\u001b[1;33m)\u001b[0m\u001b[1;33m\u001b[0m\u001b[0m\n\u001b[0m\u001b[0;32m    562\u001b[0m         \u001b[1;32mfinally\u001b[0m\u001b[1;33m:\u001b[0m\u001b[1;33m\u001b[0m\u001b[0m\n\u001b[0;32m    563\u001b[0m             \u001b[0mself\u001b[0m\u001b[1;33m.\u001b[0m\u001b[0m_cond\u001b[0m\u001b[1;33m.\u001b[0m\u001b[0mrelease\u001b[0m\u001b[1;33m(\u001b[0m\u001b[1;33m)\u001b[0m\u001b[1;33m\u001b[0m\u001b[0m\n",
      "\u001b[1;32mC:\\ProgramData\\Anaconda2\\lib\\threading.pyc\u001b[0m in \u001b[0;36mwait\u001b[1;34m(self, timeout)\u001b[0m\n\u001b[0;32m    338\u001b[0m         \u001b[1;32mtry\u001b[0m\u001b[1;33m:\u001b[0m    \u001b[1;31m# restore state no matter what (e.g., KeyboardInterrupt)\u001b[0m\u001b[1;33m\u001b[0m\u001b[0m\n\u001b[0;32m    339\u001b[0m             \u001b[1;32mif\u001b[0m \u001b[0mtimeout\u001b[0m \u001b[1;32mis\u001b[0m \u001b[0mNone\u001b[0m\u001b[1;33m:\u001b[0m\u001b[1;33m\u001b[0m\u001b[0m\n\u001b[1;32m--> 340\u001b[1;33m                 \u001b[0mwaiter\u001b[0m\u001b[1;33m.\u001b[0m\u001b[0macquire\u001b[0m\u001b[1;33m(\u001b[0m\u001b[1;33m)\u001b[0m\u001b[1;33m\u001b[0m\u001b[0m\n\u001b[0m\u001b[0;32m    341\u001b[0m                 \u001b[1;32mif\u001b[0m \u001b[0m__debug__\u001b[0m\u001b[1;33m:\u001b[0m\u001b[1;33m\u001b[0m\u001b[0m\n\u001b[0;32m    342\u001b[0m                     \u001b[0mself\u001b[0m\u001b[1;33m.\u001b[0m\u001b[0m_note\u001b[0m\u001b[1;33m(\u001b[0m\u001b[1;34m\"%s.wait(): got it\"\u001b[0m\u001b[1;33m,\u001b[0m \u001b[0mself\u001b[0m\u001b[1;33m)\u001b[0m\u001b[1;33m\u001b[0m\u001b[0m\n",
      "\u001b[1;31mKeyboardInterrupt\u001b[0m: "
     ]
    }
   ],
   "source": [
    "param_test1 = {\n",
    " 'max_depth':range(3,10,2),\n",
    " 'min_child_weight':range(1,6,2),\n",
    " 'gamma':[i/10.0 for i in range(0,5)],\n",
    " 'n_estimators':[200,500]\n",
    "}\n",
    "\n",
    "time_start = time.time()\n",
    "\n",
    "X = app_train[features]\n",
    "Y = app_train['TARGET']\n",
    "gsearch_xgb1 = GridSearchCV(estimator = XGBClassifier(learning_rate =0.1, \\\n",
    "                            subsample=0.8, colsample_bytree=0.8, objective= 'binary:logistic', \\\n",
    "                            nthread=4, scale_pos_weight=1, seed=50), \n",
    "                            param_grid = param_test1, scoring='roc_auc',n_jobs=8,iid=False, verbose=10)\n",
    "\n",
    "gsearch_xgb1 = gsearch_xgb1.fit(X, Y)\n",
    "best_xgb = gsearch_xgb1.best_estimator_\n",
    "y_train_xgb_opt1 = best_xgb.predict(app_train[features])\n",
    "\n",
    "print('Tuned model has a training AUC score of {:.4f}.').format(roc_auc_score(y_true=Y,y_score=y_train_xgb_opt1))\n",
    "print('Grid search took {} seconds to run'.format(time.time()-time_start))"
   ]
  },
  {
   "cell_type": "code",
   "execution_count": null,
   "metadata": {},
   "outputs": [],
   "source": [
    "gsearch_xgb1.best_score_"
   ]
  },
  {
   "cell_type": "code",
   "execution_count": null,
   "metadata": {},
   "outputs": [],
   "source": [
    "gsearch_xgb1.best_params_"
   ]
  },
  {
   "cell_type": "markdown",
   "metadata": {},
   "source": [
    "### RF optimized\n",
    "\n",
    "Retrain optmized classifier in order to obtain training time ang get True positives and False positives in order to plot the AUC curve.\n",
    "Parameters found using grid search:\n",
    "* max_depth= 10, \n",
    "* min_samples_leaf= 4, \n",
    "* n_estimators= 200"
   ]
  },
  {
   "cell_type": "code",
   "execution_count": 46,
   "metadata": {},
   "outputs": [
    {
     "name": "stdout",
     "output_type": "stream",
     "text": [
      "Model trained in 549.213999987 seconds\n"
     ]
    },
    {
     "data": {
      "text/html": [
       "<div>\n",
       "<style scoped>\n",
       "    .dataframe tbody tr th:only-of-type {\n",
       "        vertical-align: middle;\n",
       "    }\n",
       "\n",
       "    .dataframe tbody tr th {\n",
       "        vertical-align: top;\n",
       "    }\n",
       "\n",
       "    .dataframe thead th {\n",
       "        text-align: right;\n",
       "    }\n",
       "</style>\n",
       "<table border=\"1\" class=\"dataframe\">\n",
       "  <thead>\n",
       "    <tr style=\"text-align: right;\">\n",
       "      <th></th>\n",
       "      <th>AUC Train</th>\n",
       "      <th>AUC Test</th>\n",
       "    </tr>\n",
       "  </thead>\n",
       "  <tbody>\n",
       "    <tr>\n",
       "      <th>0</th>\n",
       "      <td>0.8027</td>\n",
       "      <td>0.7325</td>\n",
       "    </tr>\n",
       "    <tr>\n",
       "      <th>1</th>\n",
       "      <td>0.8034</td>\n",
       "      <td>0.7306</td>\n",
       "    </tr>\n",
       "    <tr>\n",
       "      <th>2</th>\n",
       "      <td>0.8015</td>\n",
       "      <td>0.7375</td>\n",
       "    </tr>\n",
       "    <tr>\n",
       "      <th>3</th>\n",
       "      <td>0.8030</td>\n",
       "      <td>0.7343</td>\n",
       "    </tr>\n",
       "    <tr>\n",
       "      <th>4</th>\n",
       "      <td>0.8033</td>\n",
       "      <td>0.7336</td>\n",
       "    </tr>\n",
       "  </tbody>\n",
       "</table>\n",
       "</div>"
      ],
      "text/plain": [
       "   AUC Train  AUC Test\n",
       "0     0.8027    0.7325\n",
       "1     0.8034    0.7306\n",
       "2     0.8015    0.7375\n",
       "3     0.8030    0.7343\n",
       "4     0.8033    0.7336"
      ]
     },
     "execution_count": 46,
     "metadata": {},
     "output_type": "execute_result"
    }
   ],
   "source": [
    "X = app_train_no_null[features]\n",
    "y = app_train_no_null['TARGET']\n",
    "base_model_rfcv_opt = RandomForestClassifier(random_state = 50, max_depth= 10, min_samples_leaf= 4, n_estimators= 200)\n",
    "base_model_rfcv_opt , fprs_rfcv_opt, tprs_rfcv_opt, results_rfcv_opt = train_test_cv(base_model_rfcv_opt,X,y)\n",
    "results_rfcv_opt"
   ]
  },
  {
   "cell_type": "code",
   "execution_count": 47,
   "metadata": {},
   "outputs": [
    {
     "data": {
      "text/plain": [
       "AUC Train   0.8028\n",
       "AUC Test    0.7337\n",
       "dtype: float64"
      ]
     },
     "execution_count": 47,
     "metadata": {},
     "output_type": "execute_result"
    }
   ],
   "source": [
    "results_rfcv_opt.mean()"
   ]
  },
  {
   "cell_type": "code",
   "execution_count": 48,
   "metadata": {},
   "outputs": [
    {
     "name": "stdout",
     "output_type": "stream",
     "text": [
      "predictions saved : random_forest_base_cv_opt.csv\n"
     ]
    }
   ],
   "source": [
    "pred_basemodel_rfcv_opt = base_model_rfcv_opt.predict_proba(app_test_no_null[features])[:, 1]\n",
    "save_results_to_submit(pred_basemodel_rfcv_opt,filename=\"random_forest_base_cv_opt.csv\")"
   ]
  },
  {
   "cell_type": "code",
   "execution_count": null,
   "metadata": {},
   "outputs": [],
   "source": []
  },
  {
   "cell_type": "markdown",
   "metadata": {},
   "source": [
    "### XGB optmized\n",
    "\n",
    "Retrain optmized classifier in order to obtain training time ang get True positives and False positives in order to plot the AUC curve.\n",
    "Parameters found using grid search:\n",
    "* max_depth=3,\n",
    "* min_child_weight=3,\n",
    "* gamma=0.0,\n",
    "* n_estimators=500"
   ]
  },
  {
   "cell_type": "code",
   "execution_count": 42,
   "metadata": {},
   "outputs": [
    {
     "name": "stdout",
     "output_type": "stream",
     "text": [
      "Model trained in 1742.33100009 seconds\n"
     ]
    },
    {
     "data": {
      "text/html": [
       "<div>\n",
       "<style scoped>\n",
       "    .dataframe tbody tr th:only-of-type {\n",
       "        vertical-align: middle;\n",
       "    }\n",
       "\n",
       "    .dataframe tbody tr th {\n",
       "        vertical-align: top;\n",
       "    }\n",
       "\n",
       "    .dataframe thead th {\n",
       "        text-align: right;\n",
       "    }\n",
       "</style>\n",
       "<table border=\"1\" class=\"dataframe\">\n",
       "  <thead>\n",
       "    <tr style=\"text-align: right;\">\n",
       "      <th></th>\n",
       "      <th>AUC Train</th>\n",
       "      <th>AUC Test</th>\n",
       "    </tr>\n",
       "  </thead>\n",
       "  <tbody>\n",
       "    <tr>\n",
       "      <th>0</th>\n",
       "      <td>0.7889</td>\n",
       "      <td>0.7592</td>\n",
       "    </tr>\n",
       "    <tr>\n",
       "      <th>1</th>\n",
       "      <td>0.7895</td>\n",
       "      <td>0.7587</td>\n",
       "    </tr>\n",
       "    <tr>\n",
       "      <th>2</th>\n",
       "      <td>0.7885</td>\n",
       "      <td>0.7633</td>\n",
       "    </tr>\n",
       "    <tr>\n",
       "      <th>3</th>\n",
       "      <td>0.7887</td>\n",
       "      <td>0.7599</td>\n",
       "    </tr>\n",
       "    <tr>\n",
       "      <th>4</th>\n",
       "      <td>0.7895</td>\n",
       "      <td>0.7592</td>\n",
       "    </tr>\n",
       "  </tbody>\n",
       "</table>\n",
       "</div>"
      ],
      "text/plain": [
       "   AUC Train  AUC Test\n",
       "0     0.7889    0.7592\n",
       "1     0.7895    0.7587\n",
       "2     0.7885    0.7633\n",
       "3     0.7887    0.7599\n",
       "4     0.7895    0.7592"
      ]
     },
     "execution_count": 42,
     "metadata": {},
     "output_type": "execute_result"
    }
   ],
   "source": [
    "X = app_train[features]\n",
    "y = app_train['TARGET']\n",
    "xgboost_cv_opt = XGBClassifier(learning_rate =0.1, max_depth=3,min_child_weight=3,gamma=0.0,n_estimators=500,  \\\n",
    "                            subsample=0.8, colsample_bytree=0.8, objective= 'binary:logistic', \\\n",
    "                            nthread=4, scale_pos_weight=1, seed=50)\n",
    "xgboost_cv_opt , fprs_xgb_opt, tprs_xgb_xgb_opt, results_xgb_opt = train_test_cv(xgboost_cv_opt,X,y)\n",
    "results_xgb_opt"
   ]
  },
  {
   "cell_type": "code",
   "execution_count": 43,
   "metadata": {},
   "outputs": [
    {
     "data": {
      "text/plain": [
       "AUC Train   0.7890\n",
       "AUC Test    0.7600\n",
       "dtype: float64"
      ]
     },
     "execution_count": 43,
     "metadata": {},
     "output_type": "execute_result"
    }
   ],
   "source": [
    "results_xgb_opt.mean()"
   ]
  },
  {
   "cell_type": "code",
   "execution_count": 45,
   "metadata": {},
   "outputs": [
    {
     "name": "stdout",
     "output_type": "stream",
     "text": [
      "predictions saved : xgboost_cv_opt.csv\n"
     ]
    }
   ],
   "source": [
    "pred_xgboost_cv_opt = xgboost_cv_opt.predict_proba(app_test[features])[:, 1]\n",
    "save_results_to_submit(pred_xgboost_cv_opt,filename=\"xgboost_cv_opt.csv\")"
   ]
  },
  {
   "cell_type": "markdown",
   "metadata": {},
   "source": [
    "### plot AUC Curve\n",
    "\n",
    "Plot based on the best result achieved (Optimized XGBoost)"
   ]
  },
  {
   "cell_type": "code",
   "execution_count": 52,
   "metadata": {},
   "outputs": [
    {
     "data": {
      "image/png": "[encoded data removed]",
      "text/plain": [
       "<Figure size 864x576 with 1 Axes>"
      ]
     },
     "metadata": {},
     "output_type": "display_data"
    },
    {
     "data": {
      "text/plain": [
       "(<Figure size 864x576 with 1 Axes>,\n",
       " <matplotlib.axes._subplots.AxesSubplot at 0x1ef14cc0>)"
      ]
     },
     "execution_count": 52,
     "metadata": {},
     "output_type": "execute_result"
    }
   ],
   "source": [
    "plot_roc_curve(fprs_xgb_opt, tprs_xgb_xgb_opt)"
   ]
  },
  {
   "cell_type": "code",
   "execution_count": null,
   "metadata": {},
   "outputs": [],
   "source": []
  }
 ],
 "metadata": {
  "kernelspec": {
   "display_name": "Python 2",
   "language": "python",
   "name": "python2"
  },
  "language_info": {
   "codemirror_mode": {
    "name": "ipython",
    "version": 2
   },
   "file_extension": ".py",
   "mimetype": "text/x-python",
   "name": "python",
   "nbconvert_exporter": "python",
   "pygments_lexer": "ipython2",
   "version": "2.7.15"
  }
 },
 "nbformat": 4,
 "nbformat_minor": 2
}
